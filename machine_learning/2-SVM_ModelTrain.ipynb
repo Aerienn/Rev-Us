{
 "cells": [
  {
   "cell_type": "code",
   "execution_count": 1,
   "id": "079c2c06",
   "metadata": {},
   "outputs": [
    {
     "name": "stderr",
     "output_type": "stream",
     "text": [
      "Intel(R) Extension for Scikit-learn* enabled (https://github.com/intel/scikit-learn-intelex)\n"
     ]
    }
   ],
   "source": [
    "# Scikit-learn Optimization for Intel Processors\n",
    "from sklearnex import patch_sklearn\n",
    "patch_sklearn()"
   ]
  },
  {
   "cell_type": "markdown",
   "id": "eeb6186a",
   "metadata": {},
   "source": [
    "## Dataset Loading"
   ]
  },
  {
   "cell_type": "code",
   "execution_count": 2,
   "id": "26be3f27",
   "metadata": {},
   "outputs": [
    {
     "name": "stdout",
     "output_type": "stream",
     "text": [
      "(1440161, 3)\n"
     ]
    },
    {
     "data": {
      "text/html": [
       "<div>\n",
       "<style scoped>\n",
       "    .dataframe tbody tr th:only-of-type {\n",
       "        vertical-align: middle;\n",
       "    }\n",
       "\n",
       "    .dataframe tbody tr th {\n",
       "        vertical-align: top;\n",
       "    }\n",
       "\n",
       "    .dataframe thead th {\n",
       "        text-align: right;\n",
       "    }\n",
       "</style>\n",
       "<table border=\"1\" class=\"dataframe\">\n",
       "  <thead>\n",
       "    <tr style=\"text-align: right;\">\n",
       "      <th></th>\n",
       "      <th>Score</th>\n",
       "      <th>Reviews</th>\n",
       "      <th>Feedback</th>\n",
       "    </tr>\n",
       "  </thead>\n",
       "  <tbody>\n",
       "    <tr>\n",
       "      <th>0</th>\n",
       "      <td>5</td>\n",
       "      <td>handcream beautiful fragrance not stay protect...</td>\n",
       "      <td>Positive</td>\n",
       "    </tr>\n",
       "    <tr>\n",
       "      <th>1</th>\n",
       "      <td>5</td>\n",
       "      <td>wonderful hand lotion seriously dry skin stays...</td>\n",
       "      <td>Positive</td>\n",
       "    </tr>\n",
       "    <tr>\n",
       "      <th>2</th>\n",
       "      <td>5</td>\n",
       "      <td>best hand cream around silky thick soaks way l...</td>\n",
       "      <td>Positive</td>\n",
       "    </tr>\n",
       "    <tr>\n",
       "      <th>3</th>\n",
       "      <td>5</td>\n",
       "      <td>thanks</td>\n",
       "      <td>Positive</td>\n",
       "    </tr>\n",
       "    <tr>\n",
       "      <th>4</th>\n",
       "      <td>5</td>\n",
       "      <td>great hand lotion soaks right leaves skin supe...</td>\n",
       "      <td>Positive</td>\n",
       "    </tr>\n",
       "  </tbody>\n",
       "</table>\n",
       "</div>"
      ],
      "text/plain": [
       "   Score                                            Reviews  Feedback\n",
       "0      5  handcream beautiful fragrance not stay protect...  Positive\n",
       "1      5  wonderful hand lotion seriously dry skin stays...  Positive\n",
       "2      5  best hand cream around silky thick soaks way l...  Positive\n",
       "3      5                                             thanks  Positive\n",
       "4      5  great hand lotion soaks right leaves skin supe...  Positive"
      ]
     },
     "execution_count": 2,
     "metadata": {},
     "output_type": "execute_result"
    }
   ],
   "source": [
    "import os\n",
    "import pandas as pd\n",
    "\n",
    "review_dir = os.path.join(os.getcwd(), 'datasets/prep_reviews.csv')\n",
    "load_df = pd.read_csv(review_dir)\n",
    "load_df.dropna(inplace=True)     #Drops null data that csv added during save\n",
    "\n",
    "print(load_df.shape)\n",
    "load_df.head()"
   ]
  },
  {
   "cell_type": "code",
   "execution_count": 3,
   "id": "cc0616a6",
   "metadata": {},
   "outputs": [
    {
     "name": "stdout",
     "output_type": "stream",
     "text": [
      "Feedback\n",
      "Positive    1204772\n",
      "Negative     123566\n",
      "Neutral      111823\n",
      "Name: count, dtype: int64\n"
     ]
    }
   ],
   "source": [
    "feedback_counts = load_df['Feedback'].value_counts()\n",
    "print(feedback_counts)"
   ]
  },
  {
   "cell_type": "markdown",
   "id": "1ba81a33",
   "metadata": {},
   "source": [
    "## Resampling Technique"
   ]
  },
  {
   "cell_type": "code",
   "execution_count": 4,
   "id": "b5f814d2",
   "metadata": {},
   "outputs": [
    {
     "name": "stdout",
     "output_type": "stream",
     "text": [
      "Dataset       : 1440161\n",
      "Sampled       : 288032(20.0% of Dataset)\n",
      "\n"
     ]
    }
   ],
   "source": [
    "my_sample=.20\n",
    "df = load_df.sample(frac=my_sample, random_state=42)\n",
    "\n",
    "\n",
    "print(f\"Dataset       : {load_df.shape[0]}\")\n",
    "print(f\"Sampled       : {df.shape[0]}({my_sample*100}% of Dataset)\\n\")"
   ]
  },
  {
   "cell_type": "markdown",
   "id": "ff6fcc93",
   "metadata": {},
   "source": [
    "## Dataset Splitting"
   ]
  },
  {
   "cell_type": "code",
   "execution_count": 5,
   "id": "ac2bf442",
   "metadata": {},
   "outputs": [],
   "source": [
    "# Map the Data\n",
    "x = df['Reviews']  # Features (processed text)\n",
    "y = df['Feedback']  # Target labels (Positive-Neutral-Negative)"
   ]
  },
  {
   "cell_type": "code",
   "execution_count": 6,
   "id": "4d6b55b8",
   "metadata": {
    "scrolled": true
   },
   "outputs": [
    {
     "name": "stdout",
     "output_type": "stream",
     "text": [
      "Sampled Reviews:\n",
      "Training set  : 230425\n",
      "Testing set   : 57607\n",
      "Total         : 288032\n"
     ]
    }
   ],
   "source": [
    "from sklearn.model_selection import train_test_split\n",
    "x_train, x_test, y_train, y_test = train_test_split(x, y, test_size=0.2, random_state=42)\n",
    "\n",
    "print(\"Sampled Reviews:\")\n",
    "print(f\"Training set  : {len(x_train)}\")\n",
    "print(f\"Testing set   : {len(x_test)}\")\n",
    "print(f\"Total         : {df.shape[0]}\")"
   ]
  },
  {
   "cell_type": "markdown",
   "id": "63f4565a",
   "metadata": {},
   "source": [
    "## Vectorization"
   ]
  },
  {
   "cell_type": "code",
   "execution_count": 7,
   "id": "54c138d0",
   "metadata": {},
   "outputs": [
    {
     "name": "stdout",
     "output_type": "stream",
     "text": [
      "CPU times: total: 34.6 s\n",
      "Wall time: 42.7 s\n"
     ]
    }
   ],
   "source": [
    "%%time\n",
    "from sklearn.feature_extraction.text import TfidfVectorizer\n",
    "\n",
    "vectorizer = TfidfVectorizer(ngram_range=(1, 2))\n",
    "vectorizer.fit(x_train)\n",
    "\n",
    "x_train_vectorized = vectorizer.transform(x_train)\n",
    "x_test_vectorized = vectorizer.transform(x_test)"
   ]
  },
  {
   "cell_type": "markdown",
   "id": "15e3c7dd",
   "metadata": {},
   "source": [
    "## Model Training"
   ]
  },
  {
   "cell_type": "code",
   "execution_count": 8,
   "id": "4cae10c8",
   "metadata": {},
   "outputs": [
    {
     "name": "stderr",
     "output_type": "stream",
     "text": [
      "C:\\Users\\elain\\AppData\\Local\\Programs\\Python\\Python311\\Lib\\site-packages\\sklearn\\svm\\_classes.py:32: FutureWarning: The default value of `dual` will change from `True` to `'auto'` in 1.5. Set the value of `dual` explicitly to suppress the warning.\n",
      "  warnings.warn(\n"
     ]
    },
    {
     "name": "stdout",
     "output_type": "stream",
     "text": [
      "CPU times: total: 18.1 s\n",
      "Wall time: 19.7 s\n"
     ]
    }
   ],
   "source": [
    "%%time\n",
    "from sklearn.svm import LinearSVC \n",
    "classifier = LinearSVC()\n",
    "\n",
    "# Train the Model\n",
    "classifier.fit(x_train_vectorized, y_train) \n",
    "\n",
    "# Make predictions on the test set\n",
    "y_pred = classifier.predict(x_test_vectorized) "
   ]
  },
  {
   "cell_type": "markdown",
   "id": "8611440f",
   "metadata": {},
   "source": [
    "## Save the Model & Evaluation"
   ]
  },
  {
   "cell_type": "code",
   "execution_count": 9,
   "id": "2e2843c3",
   "metadata": {},
   "outputs": [
    {
     "data": {
      "text/plain": [
       "[\"D:\\\\ELI\\\\Education\\\\Programming\\\\RevU's\\\\machine_learning\\\\models/test_model/tfidf_vectorizer.joblib\"]"
      ]
     },
     "execution_count": 9,
     "metadata": {},
     "output_type": "execute_result"
    }
   ],
   "source": [
    "import joblib\n",
    "\n",
    "save_path = os.path.join(os.getcwd(), 'models/test_model/')\n",
    "classifier_path = save_path+\"SVM_classifier.joblib\"\n",
    "vectorizer_path = save_path+\"tfidf_vectorizer.joblib\"\n",
    "\n",
    "#Save the Model\n",
    "joblib.dump(classifier, classifier_path)\n",
    "joblib.dump(vectorizer, vectorizer_path)"
   ]
  },
  {
   "cell_type": "code",
   "execution_count": 10,
   "id": "96162bac",
   "metadata": {},
   "outputs": [],
   "source": [
    "# Get the file size\n",
    "vectorizer_size = os.path.getsize(classifier_path) / 1024  # Convert to MB\n",
    "classifier_size = os.path.getsize(vectorizer_path) / 1024  # Convert to MB"
   ]
  },
  {
   "cell_type": "code",
   "execution_count": 11,
   "id": "2650b1f9",
   "metadata": {},
   "outputs": [
    {
     "name": "stdout",
     "output_type": "stream",
     "text": [
      "Accuracy: 0.8810040446473519\n",
      "Confusion Matrix:\n",
      " [[ 2939   309  1737]\n",
      " [  772   663  3035]\n",
      " [  564   438 47150]]\n",
      "Classification Report:\n",
      "               precision    recall  f1-score   support\n",
      "\n",
      "    Negative       0.69      0.59      0.63      4985\n",
      "     Neutral       0.47      0.15      0.23      4470\n",
      "    Positive       0.91      0.98      0.94     48152\n",
      "\n",
      "    accuracy                           0.88     57607\n",
      "   macro avg       0.69      0.57      0.60     57607\n",
      "weighted avg       0.86      0.88      0.86     57607\n",
      "\n",
      "Evaluation results saved to: D:\\ELI\\Education\\Programming\\RevU's\\machine_learning\\model_evaluations/0_evaluation_results.txt\n"
     ]
    }
   ],
   "source": [
    "from sklearn.metrics import accuracy_score, classification_report, confusion_matrix\n",
    "\n",
    "# Evaluate the metrics\n",
    "accuracy = accuracy_score(y_test, y_pred)\n",
    "conf_matrix = confusion_matrix(y_test, y_pred)\n",
    "classification_rep = classification_report(y_test, y_pred)\n",
    "\n",
    "# Print the metrics to the console\n",
    "print(\"Accuracy:\", accuracy)\n",
    "print(\"Confusion Matrix:\\n\", conf_matrix)\n",
    "print(\"Classification Report:\\n\", classification_rep)\n",
    "\n",
    "# Save the metrics\n",
    "eval_path = os.path.join(os.getcwd(), 'model_evaluations/0_evaluation_results.txt')\n",
    "with open(eval_path, 'w') as file:\n",
    "    file.write(\"Model Specifications\\n\")\n",
    "    file.write(f\"Classifier    : {classifier} \\n\")\n",
    "    file.write(f\"Vectorizer    : {vectorizer} \\n\")\n",
    "    file.write(f\"Dataset       : {load_df.shape[0]}\\n\")\n",
    "    file.write(f\"Sampled       : {df.shape[0]}({my_sample*100}% of Dataset)\\n\")\n",
    "    file.write(f\"Training set  : {len(x_train)} \\n\")\n",
    "    file.write(f\"Testing set   : {len(x_test)} \\n\\n\")\n",
    "    file.write(f\"File Sizes\\n\")\n",
    "    file.write(f\"Vectorizer   : {vectorizer_size:.2f}KB \\n\")  \n",
    "    file.write(f\"Model        : {classifier_size:.2f}KB \\n\\n\") \n",
    "  \n",
    "    \n",
    "    file.write(\"Model Evaluation\\n\")\n",
    "    file.write(f\"Accuracy      : {accuracy*100} \\n\\n\")\n",
    "    file.write(f\"Confusion Matrix:\\n{conf_matrix} \\n\\n\")\n",
    "    file.write(f\"Classification Report:\\n{classification_rep} \\n\")\n",
    "\n",
    "print(\"Evaluation results saved to:\", eval_path)"
   ]
  },
  {
   "cell_type": "code",
   "execution_count": null,
   "id": "3d4f91c6",
   "metadata": {},
   "outputs": [],
   "source": []
  }
 ],
 "metadata": {
  "kernelspec": {
   "display_name": "Python 3 (ipykernel)",
   "language": "python",
   "name": "python3"
  },
  "language_info": {
   "codemirror_mode": {
    "name": "ipython",
    "version": 3
   },
   "file_extension": ".py",
   "mimetype": "text/x-python",
   "name": "python",
   "nbconvert_exporter": "python",
   "pygments_lexer": "ipython3",
   "version": "3.11.4"
  }
 },
 "nbformat": 4,
 "nbformat_minor": 5
}
