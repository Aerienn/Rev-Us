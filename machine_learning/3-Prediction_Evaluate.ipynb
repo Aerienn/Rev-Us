{
 "cells": [
  {
   "cell_type": "code",
   "execution_count": 1,
   "id": "f42aacec",
   "metadata": {},
   "outputs": [],
   "source": [
    "import os\n",
    "import pandas as pd\n",
    "import joblib\n",
    "from sklearn.metrics import accuracy_score, confusion_matrix, classification_report\n",
    "from sklearn.feature_extraction.text import TfidfVectorizer\n",
    "\n",
    "# Load model and vectorizer\n",
    "models_directory = os.path.join(os.getcwd(), 'models')\n",
    "svm_classifier = joblib.load(os.path.join(models_directory, 'SVM_classifier.joblib'))\n",
    "vectorizer = joblib.load(os.path.join(models_directory, 'tfidf_vectorizer.joblib'))"
   ]
  },
  {
   "cell_type": "code",
   "execution_count": 2,
   "id": "ff2dfa2f",
   "metadata": {},
   "outputs": [],
   "source": [
    "# Function for loading dataset, drop na, then return vectorized and label value\n",
    "def load_and_process(file_path):\n",
    "    data = pd.read_csv(os.path.join(eval_directory, file_path))\n",
    "    data.dropna(inplace=True)\n",
    "    return vectorizer.transform(data['Reviews']), data['Feedback']\n",
    "\n",
    "# Directory and Datasets\n",
    "eval_directory = os.path.join(os.getcwd(), 'datasets/evaluators')\n",
    "ebay_vectorized, ebay_label = load_and_process('prep_ebay_ProductReviews.csv')\n",
    "flipkart_vectorized, flipkart_label = load_and_process('prep_flipkart_ProductReviews.csv')\n",
    "sephora_vectorized, sephora_label = load_and_process('prep_sephora_ProductReviews.csv')\n",
    "shopee_vectorized, shopee_label = load_and_process('prep_shopee_ProductReviews.csv')"
   ]
  },
  {
   "cell_type": "code",
   "execution_count": 3,
   "id": "6d4d4d20",
   "metadata": {},
   "outputs": [],
   "source": [
    "# Create predictions\n",
    "ebay_predict = svm_classifier.predict(ebay_vectorized)\n",
    "flipkart_predict = svm_classifier.predict(flipkart_vectorized)\n",
    "sephora_predict = svm_classifier.predict(sephora_vectorized)\n",
    "shopee_predict = svm_classifier.predict(shopee_vectorized)"
   ]
  },
  {
   "cell_type": "code",
   "execution_count": 4,
   "id": "6c766ff2",
   "metadata": {},
   "outputs": [],
   "source": [
    "# Evaluate the prediction and write the results\n",
    "def evaluate_and_write_results(file, dataset_name, labels, predictions):\n",
    "    accuracy = accuracy_score(labels, predictions)\n",
    "    conf_matrix = confusion_matrix(labels, predictions)\n",
    "    classification_rep = classification_report(labels, predictions)\n",
    "\n",
    "    file.write(f\"{dataset_name} Dataset \\n\")\n",
    "    file.write(f\"Accuracy      : {accuracy * 100} \\n\\n\")\n",
    "    file.write(f\"Confusion Matrix:\\n{conf_matrix} \\n\\n\")\n",
    "    file.write(f\"Classification Report:\\n{classification_rep} \\n\\n\\n------------------\\n\")\n",
    "\n",
    "eval_path = os.path.join(os.getcwd(), 'model_evaluations/predict_eval_results.txt')\n",
    "with open(eval_path, 'w') as file:\n",
    "    evaluate_and_write_results(file, \"Ebay\", ebay_label, ebay_predict)\n",
    "    evaluate_and_write_results(file, \"Flipkart\", flipkart_label, flipkart_predict)\n",
    "    evaluate_and_write_results(file, \"Sephora\", sephora_label, sephora_predict)\n",
    "    evaluate_and_write_results(file, \"Shopee\", shopee_label, shopee_predict)"
   ]
  }
 ],
 "metadata": {
  "kernelspec": {
   "display_name": "Python 3 (ipykernel)",
   "language": "python",
   "name": "python3"
  },
  "language_info": {
   "codemirror_mode": {
    "name": "ipython",
    "version": 3
   },
   "file_extension": ".py",
   "mimetype": "text/x-python",
   "name": "python",
   "nbconvert_exporter": "python",
   "pygments_lexer": "ipython3",
   "version": "3.11.5"
  }
 },
 "nbformat": 4,
 "nbformat_minor": 5
}
