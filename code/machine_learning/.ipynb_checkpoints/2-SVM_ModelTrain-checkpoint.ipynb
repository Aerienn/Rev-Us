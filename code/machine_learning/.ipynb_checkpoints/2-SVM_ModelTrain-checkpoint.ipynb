{
 "cells": [
  {
   "cell_type": "code",
   "execution_count": 1,
   "id": "079c2c06",
   "metadata": {},
   "outputs": [
    {
     "name": "stdout",
     "output_type": "stream",
     "text": [
      "env: SCIKIT_LEARN_INTEL=SKLEARN\n"
     ]
    }
   ],
   "source": [
    "#Enable hardware acceleration\n",
    "%env SCIKIT_LEARN_INTEL=SKLEARN"
   ]
  },
  {
   "cell_type": "markdown",
   "id": "eeb6186a",
   "metadata": {},
   "source": [
    "## Dataset Loading"
   ]
  },
  {
   "cell_type": "code",
   "execution_count": 2,
   "id": "26be3f27",
   "metadata": {},
   "outputs": [
    {
     "name": "stdout",
     "output_type": "stream",
     "text": [
      "(1733527, 3)\n"
     ]
    },
    {
     "data": {
      "text/html": [
       "<div>\n",
       "<style scoped>\n",
       "    .dataframe tbody tr th:only-of-type {\n",
       "        vertical-align: middle;\n",
       "    }\n",
       "\n",
       "    .dataframe tbody tr th {\n",
       "        vertical-align: top;\n",
       "    }\n",
       "\n",
       "    .dataframe thead th {\n",
       "        text-align: right;\n",
       "    }\n",
       "</style>\n",
       "<table border=\"1\" class=\"dataframe\">\n",
       "  <thead>\n",
       "    <tr style=\"text-align: right;\">\n",
       "      <th></th>\n",
       "      <th>Score</th>\n",
       "      <th>Reviews</th>\n",
       "      <th>Feedback</th>\n",
       "    </tr>\n",
       "  </thead>\n",
       "  <tbody>\n",
       "    <tr>\n",
       "      <th>0</th>\n",
       "      <td>5</td>\n",
       "      <td>great product price</td>\n",
       "      <td>Positive</td>\n",
       "    </tr>\n",
       "    <tr>\n",
       "      <th>1</th>\n",
       "      <td>3</td>\n",
       "      <td>waaay small use futur children</td>\n",
       "      <td>Neutral</td>\n",
       "    </tr>\n",
       "    <tr>\n",
       "      <th>2</th>\n",
       "      <td>5</td>\n",
       "      <td>stays vibrant many washes</td>\n",
       "      <td>Positive</td>\n",
       "    </tr>\n",
       "    <tr>\n",
       "      <th>3</th>\n",
       "      <td>5</td>\n",
       "      <td>son really likes pink ones nervous</td>\n",
       "      <td>Positive</td>\n",
       "    </tr>\n",
       "    <tr>\n",
       "      <th>4</th>\n",
       "      <td>3</td>\n",
       "      <td>waaay small use future child</td>\n",
       "      <td>Neutral</td>\n",
       "    </tr>\n",
       "  </tbody>\n",
       "</table>\n",
       "</div>"
      ],
      "text/plain": [
       "   Score                             Reviews  Feedback\n",
       "0      5                 great product price  Positive\n",
       "1      3      waaay small use futur children   Neutral\n",
       "2      5           stays vibrant many washes  Positive\n",
       "3      5  son really likes pink ones nervous  Positive\n",
       "4      3        waaay small use future child   Neutral"
      ]
     },
     "execution_count": 2,
     "metadata": {},
     "output_type": "execute_result"
    }
   ],
   "source": [
    "import os\n",
    "import pandas as pd\n",
    "\n",
    "review_dir = os.path.join(os.getcwd(), '../../data/processed_data/prep_reviews.csv')\n",
    "load_df = pd.read_csv(review_dir)\n",
    "load_df.dropna(inplace=True)     #Fixes data that might've gotten lost.\n",
    "load_df.drop_duplicates(subset='Reviews', keep='first', inplace=True) \n",
    "\n",
    "print(load_df.shape)\n",
    "load_df.head()"
   ]
  },
  {
   "cell_type": "markdown",
   "id": "1ba81a33",
   "metadata": {},
   "source": [
    "## Resampling Technique"
   ]
  },
  {
   "cell_type": "code",
   "execution_count": 3,
   "id": "b5f814d2",
   "metadata": {},
   "outputs": [
    {
     "name": "stdout",
     "output_type": "stream",
     "text": [
      "Dataset       : 1733527\n",
      "Sampled       : 520058(30.0% of Dataset)\n",
      "\n"
     ]
    }
   ],
   "source": [
    "my_sample=.3\n",
    "df = load_df.sample(frac=my_sample)\n",
    "\n",
    "print(f\"Dataset       : {load_df.shape[0]}\")\n",
    "print(f\"Sampled       : {df.shape[0]}({my_sample*100}% of Dataset)\\n\")"
   ]
  },
  {
   "cell_type": "markdown",
   "id": "ff6fcc93",
   "metadata": {},
   "source": [
    "## Dataset Splitting"
   ]
  },
  {
   "cell_type": "code",
   "execution_count": 4,
   "id": "ac2bf442",
   "metadata": {},
   "outputs": [],
   "source": [
    "# Map the Data\n",
    "x = df['Reviews']  # Features (processed text)\n",
    "y = df['Feedback']  # Target labels (Positive-Neutral-Negative)"
   ]
  },
  {
   "cell_type": "code",
   "execution_count": 5,
   "id": "4d6b55b8",
   "metadata": {
    "scrolled": true
   },
   "outputs": [
    {
     "name": "stdout",
     "output_type": "stream",
     "text": [
      "Sampled Reviews:\n",
      "Training set  : 416046\n",
      "Testing set   : 104012\n",
      "Total         : 520058\n"
     ]
    }
   ],
   "source": [
    "from sklearn.model_selection import train_test_split\n",
    "x_train, x_test, y_train, y_test = train_test_split(x, y, test_size=0.2, random_state=42)\n",
    "\n",
    "print(\"Sampled Reviews:\")\n",
    "print(f\"Training set  : {len(x_train)}\")\n",
    "print(f\"Testing set   : {len(x_test)}\")\n",
    "print(f\"Total         : {df.shape[0]}\")"
   ]
  },
  {
   "cell_type": "markdown",
   "id": "63f4565a",
   "metadata": {},
   "source": [
    "## Vectorization"
   ]
  },
  {
   "cell_type": "code",
   "execution_count": 6,
   "id": "54c138d0",
   "metadata": {},
   "outputs": [
    {
     "name": "stdout",
     "output_type": "stream",
     "text": [
      "CPU times: user 1min, sys: 3.36 s, total: 1min 3s\n",
      "Wall time: 1min 3s\n"
     ]
    }
   ],
   "source": [
    "%%time\n",
    "from sklearn.feature_extraction.text import TfidfVectorizer\n",
    "\n",
    "vectorizer = TfidfVectorizer(ngram_range=(1, 2))\n",
    "vectorizer.fit(x_train)\n",
    "\n",
    "x_train_vectorized = vectorizer.transform(x_train)\n",
    "x_test_vectorized = vectorizer.transform(x_test)"
   ]
  },
  {
   "cell_type": "markdown",
   "id": "15e3c7dd",
   "metadata": {},
   "source": [
    "## Model Training"
   ]
  },
  {
   "cell_type": "code",
   "execution_count": 7,
   "id": "4cae10c8",
   "metadata": {},
   "outputs": [
    {
     "name": "stderr",
     "output_type": "stream",
     "text": [
      "/home/aerienn/.local/lib/python3.11/site-packages/sklearn/svm/_classes.py:32: FutureWarning: The default value of `dual` will change from `True` to `'auto'` in 1.5. Set the value of `dual` explicitly to suppress the warning.\n",
      "  warnings.warn(\n"
     ]
    },
    {
     "name": "stdout",
     "output_type": "stream",
     "text": [
      "CPU times: user 25.9 s, sys: 191 ms, total: 26 s\n",
      "Wall time: 26.2 s\n"
     ]
    }
   ],
   "source": [
    "%%time\n",
    "from sklearn.svm import LinearSVC \n",
    "classifier = LinearSVC()\n",
    "\n",
    "# Train the Model\n",
    "classifier.fit(x_train_vectorized, y_train) \n",
    "\n",
    "# Make predictions on the test set\n",
    "y_pred = classifier.predict(x_test_vectorized) "
   ]
  },
  {
   "cell_type": "code",
   "execution_count": 8,
   "id": "2650b1f9",
   "metadata": {},
   "outputs": [
    {
     "name": "stdout",
     "output_type": "stream",
     "text": [
      "Accuracy: 0.8735242087451448\n",
      "Confusion Matrix:\n",
      " [[ 8332   960  2705]\n",
      " [ 2172  1886  5169]\n",
      " [ 1181   968 80639]]\n",
      "Classification Report:\n",
      "               precision    recall  f1-score   support\n",
      "\n",
      "    Negative       0.71      0.69      0.70     11997\n",
      "     Neutral       0.49      0.20      0.29      9227\n",
      "    Positive       0.91      0.97      0.94     82788\n",
      "\n",
      "    accuracy                           0.87    104012\n",
      "   macro avg       0.71      0.62      0.64    104012\n",
      "weighted avg       0.85      0.87      0.86    104012\n",
      "\n",
      "Evaluation results saved to: /home/aerienn/Desktop/CS-THESIS/code/machine_learning/../../data/model_weights/0_evaluation_results.txt\n"
     ]
    }
   ],
   "source": [
    "from sklearn.metrics import accuracy_score, classification_report, confusion_matrix\n",
    "\n",
    "# Evaluate the metrics\n",
    "accuracy = accuracy_score(y_test, y_pred)\n",
    "conf_matrix = confusion_matrix(y_test, y_pred)\n",
    "classification_rep = classification_report(y_test, y_pred)\n",
    "\n",
    "# Print the metrics to the console\n",
    "print(\"Accuracy:\", accuracy)\n",
    "print(\"Confusion Matrix:\\n\", conf_matrix)\n",
    "print(\"Classification Report:\\n\", classification_rep)\n",
    "\n",
    "# Save the metrics\n",
    "eval_path = os.path.join(os.getcwd(), '../../data/model_weights/0_evaluation_results.txt')\n",
    "with open(eval_path, 'w') as file:\n",
    "    file.write(\"Model Specifications\\n\")\n",
    "    file.write(f\"Classifier    : {classifier} \\n\")\n",
    "    file.write(f\"Vectorizer    : {vectorizer} \\n\")\n",
    "    file.write(f\"Dataset       : {load_df.shape[0]}\\n\")\n",
    "    file.write(f\"Sampled       : {df.shape[0]}({my_sample*100}% of Dataset)\\n\")\n",
    "    file.write(f\"Training set  : {len(x_train)} \\n\")\n",
    "    file.write(f\"Testing set   : {len(x_test)} \\n\\n\")\n",
    "    \n",
    "    \n",
    "    file.write(\"Model Evaluation\\n\")\n",
    "    file.write(f\"Accuracy      : {accuracy*100} \\n\\n\")\n",
    "    file.write(f\"Confusion Matrix:\\n{conf_matrix} \\n\\n\")\n",
    "    file.write(f\"Classification Report:\\n{classification_rep} \\n\")\n",
    "\n",
    "print(\"Evaluation results saved to:\", eval_path)"
   ]
  },
  {
   "cell_type": "markdown",
   "id": "8611440f",
   "metadata": {},
   "source": [
    "## Save the Model"
   ]
  },
  {
   "cell_type": "code",
   "execution_count": 9,
   "id": "2e2843c3",
   "metadata": {},
   "outputs": [
    {
     "data": {
      "text/plain": [
       "['/home/aerienn/Desktop/CS-THESIS/code/machine_learning/../../models/test_model/tfidf_vectorizer.joblib']"
      ]
     },
     "execution_count": 9,
     "metadata": {},
     "output_type": "execute_result"
    }
   ],
   "source": [
    "import joblib\n",
    "save_path = os.path.join(os.getcwd(), '../../models/test_model/')\n",
    "joblib.dump(classifier, save_path+\"SVM_classifier.joblib\")\n",
    "joblib.dump(vectorizer, save_path+\"tfidf_vectorizer.joblib\")"
   ]
  }
 ],
 "metadata": {
  "kernelspec": {
   "display_name": "Python 3 (ipykernel)",
   "language": "python",
   "name": "python3"
  },
  "language_info": {
   "codemirror_mode": {
    "name": "ipython",
    "version": 3
   },
   "file_extension": ".py",
   "mimetype": "text/x-python",
   "name": "python",
   "nbconvert_exporter": "python",
   "pygments_lexer": "ipython3",
   "version": "3.11.4"
  }
 },
 "nbformat": 4,
 "nbformat_minor": 5
}
