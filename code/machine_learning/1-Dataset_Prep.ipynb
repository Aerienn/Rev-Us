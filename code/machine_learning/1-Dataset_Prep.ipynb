{
 "cells": [
  {
   "cell_type": "markdown",
   "id": "efcdb9a5",
   "metadata": {},
   "source": [
    "# Dataset Prepartion\n",
    "## Dataset Loading\n",
    "### Load the JSON files into Data Frame"
   ]
  },
  {
   "cell_type": "code",
   "execution_count": 1,
   "id": "1b969bfc",
   "metadata": {},
   "outputs": [],
   "source": [
    "import os\n",
    "import pandas as pd\n",
    "\n",
    "file_path = os.path.join(os.getcwd(),'../../data/processed_data/')\n",
    "df = pd.read_csv(file_path+'amazon_reviews.csv')"
   ]
  },
  {
   "cell_type": "code",
   "execution_count": 2,
   "id": "87e7db48",
   "metadata": {},
   "outputs": [
    {
     "data": {
      "text/plain": [
       "(1497248, 2)"
      ]
     },
     "execution_count": 2,
     "metadata": {},
     "output_type": "execute_result"
    }
   ],
   "source": [
    "df.shape"
   ]
  },
  {
   "cell_type": "markdown",
   "id": "512b41f7",
   "metadata": {},
   "source": [
    "## Field Selection"
   ]
  },
  {
   "cell_type": "code",
   "execution_count": 3,
   "id": "7c74c6df",
   "metadata": {},
   "outputs": [
    {
     "data": {
      "text/html": [
       "<div>\n",
       "<style scoped>\n",
       "    .dataframe tbody tr th:only-of-type {\n",
       "        vertical-align: middle;\n",
       "    }\n",
       "\n",
       "    .dataframe tbody tr th {\n",
       "        vertical-align: top;\n",
       "    }\n",
       "\n",
       "    .dataframe thead th {\n",
       "        text-align: right;\n",
       "    }\n",
       "</style>\n",
       "<table border=\"1\" class=\"dataframe\">\n",
       "  <thead>\n",
       "    <tr style=\"text-align: right;\">\n",
       "      <th></th>\n",
       "      <th>Score</th>\n",
       "      <th>Reviews</th>\n",
       "    </tr>\n",
       "  </thead>\n",
       "  <tbody>\n",
       "    <tr>\n",
       "      <th>0</th>\n",
       "      <td>5</td>\n",
       "      <td>This handcream has a beautiful fragrance. It d...</td>\n",
       "    </tr>\n",
       "    <tr>\n",
       "      <th>1</th>\n",
       "      <td>5</td>\n",
       "      <td>wonderful hand lotion, for seriously dry skin,...</td>\n",
       "    </tr>\n",
       "    <tr>\n",
       "      <th>2</th>\n",
       "      <td>5</td>\n",
       "      <td>Best hand cream around.  Silky, thick, soaks i...</td>\n",
       "    </tr>\n",
       "    <tr>\n",
       "      <th>3</th>\n",
       "      <td>5</td>\n",
       "      <td>Thanks!!</td>\n",
       "    </tr>\n",
       "    <tr>\n",
       "      <th>4</th>\n",
       "      <td>5</td>\n",
       "      <td>Great hand lotion.  Soaks right in and leaves ...</td>\n",
       "    </tr>\n",
       "  </tbody>\n",
       "</table>\n",
       "</div>"
      ],
      "text/plain": [
       "   Score                                            Reviews\n",
       "0      5  This handcream has a beautiful fragrance. It d...\n",
       "1      5  wonderful hand lotion, for seriously dry skin,...\n",
       "2      5  Best hand cream around.  Silky, thick, soaks i...\n",
       "3      5                                           Thanks!!\n",
       "4      5  Great hand lotion.  Soaks right in and leaves ..."
      ]
     },
     "execution_count": 3,
     "metadata": {},
     "output_type": "execute_result"
    }
   ],
   "source": [
    "df = df.rename({\"reviewText\" : \"Reviews\"}, axis=1)\n",
    "df = df.rename({\"overall\" : \"Score\"}, axis=1)\n",
    "df = df [[\"Score\", \"Reviews\"]]\n",
    "df.head()"
   ]
  },
  {
   "cell_type": "markdown",
   "id": "c39b5b21",
   "metadata": {},
   "source": [
    "## Missing and Duplicate Data Checks"
   ]
  },
  {
   "cell_type": "code",
   "execution_count": 4,
   "id": "d1c1adc9",
   "metadata": {},
   "outputs": [
    {
     "name": "stdout",
     "output_type": "stream",
     "text": [
      "Missing data:\n",
      " Score      0\n",
      "Reviews    1\n",
      "dtype: int64\n",
      "       Score Reviews\n",
      "41454      5     NaN\n"
     ]
    }
   ],
   "source": [
    "def missing_checker(df):\n",
    "    missing_reviews = df.isnull()\n",
    "    \n",
    "    print(\"Missing data:\\n\", missing_reviews.sum())\n",
    "    print(df[missing_reviews.any(axis=1)])\n",
    "\n",
    "missing_checker(df)"
   ]
  },
  {
   "cell_type": "code",
   "execution_count": 5,
   "id": "ee088132",
   "metadata": {},
   "outputs": [
    {
     "name": "stdout",
     "output_type": "stream",
     "text": [
      "Missing data:\n",
      " Score      0\n",
      "Reviews    0\n",
      "dtype: int64\n",
      "Empty DataFrame\n",
      "Columns: [Score, Reviews]\n",
      "Index: []\n"
     ]
    }
   ],
   "source": [
    "# Drop Missing Data\n",
    "df.dropna(inplace=True)\n",
    "\n",
    "# Check again\n",
    "missing_checker(df)"
   ]
  },
  {
   "cell_type": "code",
   "execution_count": 6,
   "id": "6b6d3a7f",
   "metadata": {},
   "outputs": [
    {
     "name": "stdout",
     "output_type": "stream",
     "text": [
      "Duplicate Reviews:\n",
      " 0\n",
      "Series([], Name: Reviews, dtype: object)\n"
     ]
    }
   ],
   "source": [
    "def duplicate_checker(df):\n",
    "    # Get the duplicate reviews\n",
    "    duplicate_reviews = df.duplicated(subset='Reviews')\n",
    "    \n",
    "    print(\"Duplicate Reviews:\\n\", duplicate_reviews.sum())\n",
    "    \n",
    "    duplicate_rows = df[duplicate_reviews]\n",
    "    print(duplicate_rows['Reviews'])\n",
    "\n",
    "duplicate_checker(df)"
   ]
  },
  {
   "cell_type": "code",
   "execution_count": 7,
   "id": "b0783ec0",
   "metadata": {},
   "outputs": [
    {
     "name": "stdout",
     "output_type": "stream",
     "text": [
      "Duplicate Reviews:\n",
      " 0\n",
      "Series([], Name: Reviews, dtype: object)\n"
     ]
    }
   ],
   "source": [
    "# Remove the duplicates but keep the first instance\n",
    "df.drop_duplicates(subset='Reviews', keep='first', inplace=True)\n",
    "duplicate_checker(df)"
   ]
  },
  {
   "cell_type": "markdown",
   "id": "97d537ca",
   "metadata": {},
   "source": [
    "## Feedback Mapping of Scores"
   ]
  },
  {
   "cell_type": "code",
   "execution_count": 8,
   "id": "9e4c2a8d",
   "metadata": {
    "scrolled": true
   },
   "outputs": [
    {
     "name": "stdout",
     "output_type": "stream",
     "text": [
      "Feedback\n",
      "Positive    1257278\n",
      "Negative     125846\n",
      "Neutral      114123\n",
      "Name: count, dtype: int64\n"
     ]
    }
   ],
   "source": [
    "import numpy as np                       # MD array and Matrices\n",
    "\n",
    "conditions = [\n",
    "    (df['Score'] >= 4),\n",
    "    (df['Score'] == 3),\n",
    "    (df['Score'] <= 2)\n",
    "    ]\n",
    "feedback_values = ['Positive',\n",
    "                   'Neutral',\n",
    "                   'Negative']\n",
    "df['Feedback'] = np.select(conditions, feedback_values)\n",
    "\n",
    "\n",
    "feedback_counts = df['Feedback'].value_counts()\n",
    "print(feedback_counts)"
   ]
  },
  {
   "cell_type": "code",
   "execution_count": 9,
   "id": "7f9e5baf",
   "metadata": {},
   "outputs": [
    {
     "data": {
      "text/plain": [
       "<Axes: xlabel='Feedback'>"
      ]
     },
     "execution_count": 9,
     "metadata": {},
     "output_type": "execute_result"
    },
    {
     "data": {
      "image/png": "[encoded data removed]",
      "text/plain": [
       "<Figure size 640x480 with 1 Axes>"
      ]
     },
     "metadata": {},
     "output_type": "display_data"
    }
   ],
   "source": [
    "import matplotlib.pyplot as plt  # Data Visualization\n",
    "\n",
    "df['Feedback'].value_counts().sort_index().plot.bar(color=['maroon', 'steelblue', 'limegreen'])"
   ]
  },
  {
   "cell_type": "code",
   "execution_count": 10,
   "id": "4424e858",
   "metadata": {},
   "outputs": [
    {
     "name": "stdout",
     "output_type": "stream",
     "text": [
      "Total number of reviews: 1497247\n"
     ]
    },
    {
     "data": {
      "text/html": [
       "<div>\n",
       "<style scoped>\n",
       "    .dataframe tbody tr th:only-of-type {\n",
       "        vertical-align: middle;\n",
       "    }\n",
       "\n",
       "    .dataframe tbody tr th {\n",
       "        vertical-align: top;\n",
       "    }\n",
       "\n",
       "    .dataframe thead th {\n",
       "        text-align: right;\n",
       "    }\n",
       "</style>\n",
       "<table border=\"1\" class=\"dataframe\">\n",
       "  <thead>\n",
       "    <tr style=\"text-align: right;\">\n",
       "      <th></th>\n",
       "      <th>Score</th>\n",
       "      <th>Reviews</th>\n",
       "      <th>Feedback</th>\n",
       "    </tr>\n",
       "  </thead>\n",
       "  <tbody>\n",
       "    <tr>\n",
       "      <th>0</th>\n",
       "      <td>5</td>\n",
       "      <td>This handcream has a beautiful fragrance. It d...</td>\n",
       "      <td>Positive</td>\n",
       "    </tr>\n",
       "    <tr>\n",
       "      <th>1</th>\n",
       "      <td>5</td>\n",
       "      <td>wonderful hand lotion, for seriously dry skin,...</td>\n",
       "      <td>Positive</td>\n",
       "    </tr>\n",
       "    <tr>\n",
       "      <th>2</th>\n",
       "      <td>5</td>\n",
       "      <td>Best hand cream around.  Silky, thick, soaks i...</td>\n",
       "      <td>Positive</td>\n",
       "    </tr>\n",
       "    <tr>\n",
       "      <th>3</th>\n",
       "      <td>5</td>\n",
       "      <td>Thanks!!</td>\n",
       "      <td>Positive</td>\n",
       "    </tr>\n",
       "    <tr>\n",
       "      <th>4</th>\n",
       "      <td>5</td>\n",
       "      <td>Great hand lotion.  Soaks right in and leaves ...</td>\n",
       "      <td>Positive</td>\n",
       "    </tr>\n",
       "  </tbody>\n",
       "</table>\n",
       "</div>"
      ],
      "text/plain": [
       "   Score                                            Reviews  Feedback\n",
       "0      5  This handcream has a beautiful fragrance. It d...  Positive\n",
       "1      5  wonderful hand lotion, for seriously dry skin,...  Positive\n",
       "2      5  Best hand cream around.  Silky, thick, soaks i...  Positive\n",
       "3      5                                           Thanks!!  Positive\n",
       "4      5  Great hand lotion.  Soaks right in and leaves ...  Positive"
      ]
     },
     "execution_count": 10,
     "metadata": {},
     "output_type": "execute_result"
    }
   ],
   "source": [
    "print(\"Total number of reviews:\",df.shape[0])\n",
    "df.head()"
   ]
  },
  {
   "cell_type": "code",
   "execution_count": 11,
   "id": "850232f3",
   "metadata": {},
   "outputs": [
    {
     "name": "stdout",
     "output_type": "stream",
     "text": [
      "Total number of reviews: 1497247\n"
     ]
    },
    {
     "data": {
      "text/html": [
       "<div>\n",
       "<style scoped>\n",
       "    .dataframe tbody tr th:only-of-type {\n",
       "        vertical-align: middle;\n",
       "    }\n",
       "\n",
       "    .dataframe tbody tr th {\n",
       "        vertical-align: top;\n",
       "    }\n",
       "\n",
       "    .dataframe thead th {\n",
       "        text-align: right;\n",
       "    }\n",
       "</style>\n",
       "<table border=\"1\" class=\"dataframe\">\n",
       "  <thead>\n",
       "    <tr style=\"text-align: right;\">\n",
       "      <th></th>\n",
       "      <th>Score</th>\n",
       "      <th>Reviews</th>\n",
       "      <th>Feedback</th>\n",
       "    </tr>\n",
       "  </thead>\n",
       "  <tbody>\n",
       "    <tr>\n",
       "      <th>0</th>\n",
       "      <td>5</td>\n",
       "      <td>This handcream has a beautiful fragrance. It d...</td>\n",
       "      <td>Positive</td>\n",
       "    </tr>\n",
       "    <tr>\n",
       "      <th>1</th>\n",
       "      <td>5</td>\n",
       "      <td>wonderful hand lotion, for seriously dry skin,...</td>\n",
       "      <td>Positive</td>\n",
       "    </tr>\n",
       "    <tr>\n",
       "      <th>2</th>\n",
       "      <td>5</td>\n",
       "      <td>Best hand cream around.  Silky, thick, soaks i...</td>\n",
       "      <td>Positive</td>\n",
       "    </tr>\n",
       "    <tr>\n",
       "      <th>3</th>\n",
       "      <td>5</td>\n",
       "      <td>Thanks!!</td>\n",
       "      <td>Positive</td>\n",
       "    </tr>\n",
       "    <tr>\n",
       "      <th>4</th>\n",
       "      <td>5</td>\n",
       "      <td>Great hand lotion.  Soaks right in and leaves ...</td>\n",
       "      <td>Positive</td>\n",
       "    </tr>\n",
       "  </tbody>\n",
       "</table>\n",
       "</div>"
      ],
      "text/plain": [
       "   Score                                            Reviews  Feedback\n",
       "0      5  This handcream has a beautiful fragrance. It d...  Positive\n",
       "1      5  wonderful hand lotion, for seriously dry skin,...  Positive\n",
       "2      5  Best hand cream around.  Silky, thick, soaks i...  Positive\n",
       "3      5                                           Thanks!!  Positive\n",
       "4      5  Great hand lotion.  Soaks right in and leaves ...  Positive"
      ]
     },
     "execution_count": 11,
     "metadata": {},
     "output_type": "execute_result"
    }
   ],
   "source": [
    "print(\"Total number of reviews:\",df.shape[0])\n",
    "df.head()"
   ]
  },
  {
   "cell_type": "markdown",
   "id": "e10d2985",
   "metadata": {},
   "source": [
    "# Data Preprocessing"
   ]
  },
  {
   "cell_type": "code",
   "execution_count": 12,
   "id": "41c9942e",
   "metadata": {},
   "outputs": [
    {
     "name": "stdout",
     "output_type": "stream",
     "text": [
      "never going give not say cannot bear lose bold brash visit w3schools\n"
     ]
    }
   ],
   "source": [
    "import sys\n",
    "sys.path.append('..')\n",
    "from data_preprocess import text_cleaner\n",
    "\n",
    "#Test the imported module\n",
    "text = \"I’m never gonna give you up. But I shouldn't say that I can't bear to lose you.\\n https://youtube.com <strong> Bold and brash </strong> \\n<a href='https://www.w3schools.com'>Visit W3Schools</a>\"\n",
    "cleaned_words = text_cleaner(text)\n",
    "print(cleaned_words)"
   ]
  },
  {
   "cell_type": "code",
   "execution_count": 13,
   "id": "a47daeed",
   "metadata": {},
   "outputs": [],
   "source": [
    "df['Reviews'] = df['Reviews'].apply(text_cleaner)"
   ]
  },
  {
   "cell_type": "code",
   "execution_count": 14,
   "id": "bbc37549",
   "metadata": {},
   "outputs": [
    {
     "name": "stdout",
     "output_type": "stream",
     "text": [
      "Missing data:\n",
      " Score       0\n",
      "Reviews     0\n",
      "Feedback    0\n",
      "dtype: int64\n",
      "Empty DataFrame\n",
      "Columns: [Score, Reviews, Feedback]\n",
      "Index: []\n",
      "Duplicate Reviews:\n",
      " 57085\n",
      "75                                                        ok\n",
      "112                                               love color\n",
      "114                                               love color\n",
      "116                                          beautiful color\n",
      "127                                          beautiful color\n",
      "                                 ...                        \n",
      "1496866                                             expected\n",
      "1496914                                         nice product\n",
      "1496943                                        ok advertised\n",
      "1497004    love bullets feel good hand fondled pocket sle...\n",
      "1497170                               great product purchase\n",
      "Name: Reviews, Length: 57085, dtype: object\n"
     ]
    }
   ],
   "source": [
    "# Check for missing and dupe data again isn't substantial that text cleaner wiped it out.\n",
    "missing_checker(df)\n",
    "duplicate_checker(df)"
   ]
  },
  {
   "cell_type": "code",
   "execution_count": 15,
   "id": "550a0a96",
   "metadata": {},
   "outputs": [
    {
     "name": "stdout",
     "output_type": "stream",
     "text": [
      "Missing data:\n",
      " Score       0\n",
      "Reviews     0\n",
      "Feedback    0\n",
      "dtype: int64\n",
      "Empty DataFrame\n",
      "Columns: [Score, Reviews, Feedback]\n",
      "Index: []\n",
      "Duplicate Reviews:\n",
      " 0\n",
      "Series([], Name: Reviews, dtype: object)\n"
     ]
    }
   ],
   "source": [
    "# Drop\n",
    "df.dropna(inplace=True)\n",
    "missing_checker(df)\n",
    "df.drop_duplicates(subset='Reviews', keep='first', inplace=True)\n",
    "duplicate_checker(df)"
   ]
  },
  {
   "cell_type": "code",
   "execution_count": 16,
   "id": "52f244c5",
   "metadata": {},
   "outputs": [
    {
     "data": {
      "text/plain": [
       "(1440162, 3)"
      ]
     },
     "execution_count": 16,
     "metadata": {},
     "output_type": "execute_result"
    }
   ],
   "source": [
    "df.head()\n",
    "df.shape"
   ]
  },
  {
   "cell_type": "code",
   "execution_count": 17,
   "id": "87a44da9",
   "metadata": {},
   "outputs": [],
   "source": [
    "# Save the DataFrame to the new CSV file\n",
    "file_path = os.path.join(os.getcwd(),'../../data/processed_data/')\n",
    "df.to_csv(os.path.join(file_path, 'prep_reviews.csv'), index=False, encoding='utf-8')"
   ]
  },
  {
   "cell_type": "markdown",
   "id": "8fdc41cc",
   "metadata": {},
   "source": [
    "# PROCEED TO MODEL TRAINING"
   ]
  }
 ],
 "metadata": {
  "kernelspec": {
   "display_name": "Python 3 (ipykernel)",
   "language": "python",
   "name": "python3"
  },
  "language_info": {
   "codemirror_mode": {
    "name": "ipython",
    "version": 3
   },
   "file_extension": ".py",
   "mimetype": "text/x-python",
   "name": "python",
   "nbconvert_exporter": "python",
   "pygments_lexer": "ipython3",
   "version": "3.11.4"
  }
 },
 "nbformat": 4,
 "nbformat_minor": 5
}
