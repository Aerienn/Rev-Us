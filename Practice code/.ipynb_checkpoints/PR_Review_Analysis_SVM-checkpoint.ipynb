{
 "cells": [
  {
   "cell_type": "markdown",
   "id": "84a14f96",
   "metadata": {},
   "source": [
    "# Dataset Import and Initial Dataset Exploration"
   ]
  },
  {
   "cell_type": "code",
   "execution_count": 1,
   "id": "616ea276",
   "metadata": {
    "scrolled": true
   },
   "outputs": [
    {
     "data": {
      "text/html": [
       "<div>\n",
       "<style scoped>\n",
       "    .dataframe tbody tr th:only-of-type {\n",
       "        vertical-align: middle;\n",
       "    }\n",
       "\n",
       "    .dataframe tbody tr th {\n",
       "        vertical-align: top;\n",
       "    }\n",
       "\n",
       "    .dataframe thead th {\n",
       "        text-align: right;\n",
       "    }\n",
       "</style>\n",
       "<table border=\"1\" class=\"dataframe\">\n",
       "  <thead>\n",
       "    <tr style=\"text-align: right;\">\n",
       "      <th></th>\n",
       "      <th>Id</th>\n",
       "      <th>ProductId</th>\n",
       "      <th>UserId</th>\n",
       "      <th>ProfileName</th>\n",
       "      <th>HelpfulnessNumerator</th>\n",
       "      <th>HelpfulnessDenominator</th>\n",
       "      <th>Score</th>\n",
       "      <th>Time</th>\n",
       "      <th>Summary</th>\n",
       "      <th>Text</th>\n",
       "    </tr>\n",
       "  </thead>\n",
       "  <tbody>\n",
       "    <tr>\n",
       "      <th>0</th>\n",
       "      <td>1</td>\n",
       "      <td>B001E4KFG0</td>\n",
       "      <td>A3SGXH7AUHU8GW</td>\n",
       "      <td>delmartian</td>\n",
       "      <td>1</td>\n",
       "      <td>1</td>\n",
       "      <td>5</td>\n",
       "      <td>1303862400</td>\n",
       "      <td>Good Quality Dog Food</td>\n",
       "      <td>I have bought several of the Vitality canned d...</td>\n",
       "    </tr>\n",
       "    <tr>\n",
       "      <th>1</th>\n",
       "      <td>2</td>\n",
       "      <td>B00813GRG4</td>\n",
       "      <td>A1D87F6ZCVE5NK</td>\n",
       "      <td>dll pa</td>\n",
       "      <td>0</td>\n",
       "      <td>0</td>\n",
       "      <td>1</td>\n",
       "      <td>1346976000</td>\n",
       "      <td>Not as Advertised</td>\n",
       "      <td>Product arrived labeled as Jumbo Salted Peanut...</td>\n",
       "    </tr>\n",
       "    <tr>\n",
       "      <th>2</th>\n",
       "      <td>3</td>\n",
       "      <td>B000LQOCH0</td>\n",
       "      <td>ABXLMWJIXXAIN</td>\n",
       "      <td>Natalia Corres \"Natalia Corres\"</td>\n",
       "      <td>1</td>\n",
       "      <td>1</td>\n",
       "      <td>4</td>\n",
       "      <td>1219017600</td>\n",
       "      <td>\"Delight\" says it all</td>\n",
       "      <td>This is a confection that has been around a fe...</td>\n",
       "    </tr>\n",
       "    <tr>\n",
       "      <th>3</th>\n",
       "      <td>4</td>\n",
       "      <td>B000UA0QIQ</td>\n",
       "      <td>A395BORC6FGVXV</td>\n",
       "      <td>Karl</td>\n",
       "      <td>3</td>\n",
       "      <td>3</td>\n",
       "      <td>2</td>\n",
       "      <td>1307923200</td>\n",
       "      <td>Cough Medicine</td>\n",
       "      <td>If you are looking for the secret ingredient i...</td>\n",
       "    </tr>\n",
       "    <tr>\n",
       "      <th>4</th>\n",
       "      <td>5</td>\n",
       "      <td>B006K2ZZ7K</td>\n",
       "      <td>A1UQRSCLF8GW1T</td>\n",
       "      <td>Michael D. Bigham \"M. Wassir\"</td>\n",
       "      <td>0</td>\n",
       "      <td>0</td>\n",
       "      <td>5</td>\n",
       "      <td>1350777600</td>\n",
       "      <td>Great taffy</td>\n",
       "      <td>Great taffy at a great price.  There was a wid...</td>\n",
       "    </tr>\n",
       "  </tbody>\n",
       "</table>\n",
       "</div>"
      ],
      "text/plain": [
       "   Id   ProductId          UserId                      ProfileName  \\\n",
       "0   1  B001E4KFG0  A3SGXH7AUHU8GW                       delmartian   \n",
       "1   2  B00813GRG4  A1D87F6ZCVE5NK                           dll pa   \n",
       "2   3  B000LQOCH0   ABXLMWJIXXAIN  Natalia Corres \"Natalia Corres\"   \n",
       "3   4  B000UA0QIQ  A395BORC6FGVXV                             Karl   \n",
       "4   5  B006K2ZZ7K  A1UQRSCLF8GW1T    Michael D. Bigham \"M. Wassir\"   \n",
       "\n",
       "   HelpfulnessNumerator  HelpfulnessDenominator  Score        Time  \\\n",
       "0                     1                       1      5  1303862400   \n",
       "1                     0                       0      1  1346976000   \n",
       "2                     1                       1      4  1219017600   \n",
       "3                     3                       3      2  1307923200   \n",
       "4                     0                       0      5  1350777600   \n",
       "\n",
       "                 Summary                                               Text  \n",
       "0  Good Quality Dog Food  I have bought several of the Vitality canned d...  \n",
       "1      Not as Advertised  Product arrived labeled as Jumbo Salted Peanut...  \n",
       "2  \"Delight\" says it all  This is a confection that has been around a fe...  \n",
       "3         Cough Medicine  If you are looking for the secret ingredient i...  \n",
       "4            Great taffy  Great taffy at a great price.  There was a wid...  "
      ]
     },
     "execution_count": 1,
     "metadata": {},
     "output_type": "execute_result"
    }
   ],
   "source": [
    "import numpy as np\n",
    "import pandas as pd\n",
    "import sklearn\n",
    "df = pd.read_csv(r\"D:\\Downloads\\Reviews.csv\")\n",
    "df.head()"
   ]
  },
  {
   "cell_type": "markdown",
   "id": "d7e5bce3",
   "metadata": {},
   "source": [
    "# Data Preprocessing\n",
    "    1.Renaming Columns and Selecting Relevant Columns\n",
    "    2.Handling Missing Data"
   ]
  },
  {
   "cell_type": "code",
   "execution_count": 2,
   "id": "7271b665",
   "metadata": {
    "scrolled": true
   },
   "outputs": [
    {
     "data": {
      "text/html": [
       "<div>\n",
       "<style scoped>\n",
       "    .dataframe tbody tr th:only-of-type {\n",
       "        vertical-align: middle;\n",
       "    }\n",
       "\n",
       "    .dataframe tbody tr th {\n",
       "        vertical-align: top;\n",
       "    }\n",
       "\n",
       "    .dataframe thead th {\n",
       "        text-align: right;\n",
       "    }\n",
       "</style>\n",
       "<table border=\"1\" class=\"dataframe\">\n",
       "  <thead>\n",
       "    <tr style=\"text-align: right;\">\n",
       "      <th></th>\n",
       "      <th>Score</th>\n",
       "      <th>Reviews</th>\n",
       "    </tr>\n",
       "  </thead>\n",
       "  <tbody>\n",
       "    <tr>\n",
       "      <th>0</th>\n",
       "      <td>5</td>\n",
       "      <td>I have bought several of the Vitality canned d...</td>\n",
       "    </tr>\n",
       "    <tr>\n",
       "      <th>1</th>\n",
       "      <td>1</td>\n",
       "      <td>Product arrived labeled as Jumbo Salted Peanut...</td>\n",
       "    </tr>\n",
       "    <tr>\n",
       "      <th>2</th>\n",
       "      <td>4</td>\n",
       "      <td>This is a confection that has been around a fe...</td>\n",
       "    </tr>\n",
       "    <tr>\n",
       "      <th>3</th>\n",
       "      <td>2</td>\n",
       "      <td>If you are looking for the secret ingredient i...</td>\n",
       "    </tr>\n",
       "    <tr>\n",
       "      <th>4</th>\n",
       "      <td>5</td>\n",
       "      <td>Great taffy at a great price.  There was a wid...</td>\n",
       "    </tr>\n",
       "  </tbody>\n",
       "</table>\n",
       "</div>"
      ],
      "text/plain": [
       "   Score                                            Reviews\n",
       "0      5  I have bought several of the Vitality canned d...\n",
       "1      1  Product arrived labeled as Jumbo Salted Peanut...\n",
       "2      4  This is a confection that has been around a fe...\n",
       "3      2  If you are looking for the secret ingredient i...\n",
       "4      5  Great taffy at a great price.  There was a wid..."
      ]
     },
     "execution_count": 2,
     "metadata": {},
     "output_type": "execute_result"
    }
   ],
   "source": [
    "#1\n",
    "df = df.rename({\"Text\" : \"Reviews\"}, axis=1)\n",
    "df = df [[\"Score\", \"Reviews\"]]\n",
    "df.head()"
   ]
  },
  {
   "cell_type": "code",
   "execution_count": 3,
   "id": "fe743c10",
   "metadata": {
    "scrolled": true
   },
   "outputs": [
    {
     "name": "stdout",
     "output_type": "stream",
     "text": [
      "Missing data:\n",
      " Score      0\n",
      "Reviews    0\n",
      "dtype: int64\n"
     ]
    }
   ],
   "source": [
    "#2\n",
    "missing_data = df.isnull().sum()\n",
    "print(\"Missing data:\\n\", missing_data)"
   ]
  },
  {
   "cell_type": "markdown",
   "id": "46f64290",
   "metadata": {},
   "source": [
    "# Data Counting"
   ]
  },
  {
   "cell_type": "code",
   "execution_count": 4,
   "id": "3049f2d0",
   "metadata": {
    "scrolled": true
   },
   "outputs": [
    {
     "name": "stdout",
     "output_type": "stream",
     "text": [
      "Value   Counts\n",
      "5       363122\n",
      "4       80655\n",
      "1       52268\n",
      "3       42640\n",
      "2       29769\n",
      "Total Number of Reviews: 568454\n"
     ]
    }
   ],
   "source": [
    "total_reviews = df.shape[0]\n",
    "\n",
    "value_counts = df['Score'].value_counts()\n",
    "print(f\"Value   Counts\")\n",
    "for value, count in value_counts.items():\n",
    "    print(f\"{str(value)}       {str(count)}\")\n",
    "\n",
    "print(\"Total Number of Reviews:\", total_reviews)"
   ]
  },
  {
   "cell_type": "markdown",
   "id": "8c2615a4",
   "metadata": {},
   "source": [
    "# Checking for Duplicate Data"
   ]
  },
  {
   "cell_type": "code",
   "execution_count": 5,
   "id": "6e3d2973",
   "metadata": {
    "scrolled": false
   },
   "outputs": [
    {
     "name": "stdout",
     "output_type": "stream",
     "text": [
      "Number of duplicate reviews: 174875\n",
      "                                             Reviews  count\n",
      "0  This review will make me sound really stupid, ...    199\n",
      "1  Diamond Almonds<br />Almonds are a good source...    126\n",
      "2  I have two cats, one 6 and one 2 years old. Bo...     51\n",
      "3  The pet food industry can be one of the most i...     45\n",
      "4  I'm addicted to salty and tangy flavors, so wh...     42\n"
     ]
    }
   ],
   "source": [
    "duplicate_count = df.duplicated(subset='Reviews').sum()\n",
    "print(\"Number of duplicate reviews:\", duplicate_count)\n",
    "\n",
    "duplicate_reviews_count = df['Reviews'].value_counts()\n",
    "duplicate_reviews = duplicate_reviews_count[duplicate_reviews_count > 1].to_frame()\n",
    "\n",
    "output_filename = \"Dups_Count.csv\"\n",
    "duplicate_reviews.to_csv(output_filename, header=True)\n",
    "\n",
    "output = pd.read_csv(output_filename)\n",
    "print(output.head())\n"
   ]
  },
  {
   "cell_type": "markdown",
   "id": "c714648e",
   "metadata": {},
   "source": [
    "# Removing Duplicates in Data then Double Check is there's a duplicate"
   ]
  },
  {
   "cell_type": "code",
   "execution_count": 6,
   "id": "920787d7",
   "metadata": {
    "scrolled": true
   },
   "outputs": [
    {
     "name": "stdout",
     "output_type": "stream",
     "text": [
      "Number of duplicate reviews: 0\n",
      "Total Number of Reviews: 393579\n"
     ]
    }
   ],
   "source": [
    "df.drop_duplicates(subset='Reviews', keep='first', inplace=True)\n",
    "duplicate_count = df.duplicated(subset='Reviews').sum()\n",
    "print(\"Number of duplicate reviews:\", duplicate_count)\n",
    "\n",
    "total_reviews = df.shape[0]\n",
    "print(\"Total Number of Reviews:\", total_reviews)"
   ]
  },
  {
   "cell_type": "markdown",
   "id": "fe81e9ea",
   "metadata": {},
   "source": [
    "# Tokenization"
   ]
  },
  {
   "cell_type": "code",
   "execution_count": 7,
   "id": "d9876fa4",
   "metadata": {
    "scrolled": true
   },
   "outputs": [
    {
     "name": "stdout",
     "output_type": "stream",
     "text": [
      "   Score                                            Reviews\n",
      "0      5  [I, have, bought, several, of, the, Vitality, ...\n",
      "1      1  [Product, arrived, labeled, as, Jumbo, Salted,...\n",
      "2      4  [This, is, a, confection, that, has, been, aro...\n",
      "3      2  [If, you, are, looking, for, the, secret, ingr...\n",
      "4      5  [Great, taffy, at, a, great, price, ., There, ...\n"
     ]
    }
   ],
   "source": [
    "import nltk\n",
    "from nltk.tokenize import word_tokenize\n",
    "\n",
    "def tokenization(text):\n",
    "    tokens = word_tokenize(text)\n",
    "    lowercase_tokens = [token.lower() for token in tokens]\n",
    "    return tokens\n",
    "df['Reviews'] = df['Reviews'].apply(tokenization)\n",
    "\n",
    "print(df.head())"
   ]
  },
  {
   "cell_type": "markdown",
   "id": "28b6e03c",
   "metadata": {},
   "source": [
    "# Converting Token to String\n",
    "    Purpose: TfidfVectorizer and HashingVectorizer can only accept string value not token or list.\n",
    "    \n",
    "    -TfidfVectorizer\n",
    "        ~If 'content', the input is expected to be a sequence of items that can be of type string or byte.\n",
    "    --> (https://scikit-learn.org/stable/modules/generated/sklearn.feature_extraction.text.TfidfVectorizer.html)\n",
    "        ~TfidfVectorizer in does not accept pre-tokenized words as input. Instead, it expects a list of strings.\n",
    "    -HashingVectorizer\n",
    "        ~Convert a collection of text documents to a matrix of token occurrences.\n",
    "    --> (https://scikit-learn.org/stable/modules/generated/sklearn.feature_extraction.text.HashingVectorizer.html)\n",
    "        ~The HashingVectorizer processes the text documents and creates a vocabulary of unique tokens (words or n-grams)\n",
    "        that are presentend in the documents\n",
    "\n"
   ]
  },
  {
   "cell_type": "code",
   "execution_count": 8,
   "id": "01817a63",
   "metadata": {},
   "outputs": [
    {
     "name": "stdout",
     "output_type": "stream",
     "text": [
      "        Score                                            Reviews\n",
      "0           5  I have bought several of the Vitality canned d...\n",
      "1           1  Product arrived labeled as Jumbo Salted Peanut...\n",
      "2           4  This is a confection that has been around a fe...\n",
      "3           2  If you are looking for the secret ingredient i...\n",
      "4           5  Great taffy at a great price . There was a wid...\n",
      "...       ...                                                ...\n",
      "568449      5  Great for sesame chicken .. this is a good if ...\n",
      "568450      2  I 'm disappointed with the flavor . The chocol...\n",
      "568451      5  These stars are small , so you can give 10-15 ...\n",
      "568452      5  These are the BEST treats for training and rew...\n",
      "568453      5  I am very satisfied , product is as advertised...\n",
      "\n",
      "[393579 rows x 2 columns]\n"
     ]
    }
   ],
   "source": [
    "def convert_list_to_string(word_list):\n",
    "    return ' '.join(word_list)\n",
    "\n",
    "df['Reviews'] = df['Reviews'].apply(convert_list_to_string)\n",
    "\n",
    "print(df)"
   ]
  },
  {
   "cell_type": "markdown",
   "id": "4450c23b",
   "metadata": {},
   "source": [
    "# Preprocessing Text with Stopword Removal\n",
    "    1. Imports the Natural Language Toolkit (nltk) and the stopwords and checking the number of stopwords in the set.\n",
    "    2. Removing the negative words from the stop_words set, then checks the number of stopwords that are left.\n",
    "    3. Converts the text to lowercase, removes HTML tags and URLs, and eliminates non-alphanumeric characters.\n",
    "    4. Splitting the text into individual words/list of word to expand contraction words one by one.\n",
    "    5. Removes stopwords from the text, excluding negative words list, then joining the list into a single string value."
   ]
  },
  {
   "cell_type": "code",
   "execution_count": 9,
   "id": "fc2a1087",
   "metadata": {},
   "outputs": [
    {
     "data": {
      "text/plain": [
       "179"
      ]
     },
     "execution_count": 9,
     "metadata": {},
     "output_type": "execute_result"
    }
   ],
   "source": [
    "#1\n",
    "import nltk\n",
    "from nltk.corpus import stopwords\n",
    "stop_words = set(stopwords.words('english'))\n",
    "len(stop_words)"
   ]
  },
  {
   "cell_type": "code",
   "execution_count": 10,
   "id": "bf9a43a3",
   "metadata": {},
   "outputs": [
    {
     "data": {
      "text/plain": [
       "159"
      ]
     },
     "execution_count": 10,
     "metadata": {},
     "output_type": "execute_result"
    }
   ],
   "source": [
    "#2\n",
    "negative_words = {'no', 'not', \"don't\", \"aren't\", \"couldn't\", \"didn't\", \"doesn't\", \"hadn't\", \"hasn't\", \"haven't\", \"isn't\", \"mightn't\", \"mustn't\", \"needn't\", \"shouldn't\", \"wasn't\", \"weren't\", \"won't\", \"wouldn't\", \"never\", \"neither\", \"nor\", \"none\", \"nobody\", \"nowhere\", \"nothing\", \"hardly\", \"scarcely\"}\n",
    "stop_words = set(stop_words)\n",
    "\n",
    "stop_words -= negative_words\n",
    "len_stop_words = len(stop_words)\n",
    "\n",
    "len(stop_words)"
   ]
  },
  {
   "cell_type": "code",
   "execution_count": 11,
   "id": "8dc30938",
   "metadata": {
    "scrolled": false
   },
   "outputs": [],
   "source": [
    "import contractions\n",
    "import re\n",
    "\n",
    "def text_cleaner(text):\n",
    "    text = text.lower()                        #3\n",
    "    text = re.sub(r'<.*?>', ' ', text)         #3\n",
    "    text = re.sub(r'http\\S+', ' ', text)       #3\n",
    "    text = re.sub(r'[^A-Za-z0-9\\s]', '', text) #3\n",
    "    words = text.split()                                #4\n",
    "    words = [contractions.fix(word) for word in words]  #4\n",
    "    cleaned_text = \" \".join(word for word in words if word not in stop_words) #5\n",
    "    return cleaned_text"
   ]
  },
  {
   "cell_type": "markdown",
   "id": "074859c0",
   "metadata": {},
   "source": [
    "# Testing Preprocessing Text Function for future use in web deployment."
   ]
  },
  {
   "cell_type": "code",
   "execution_count": 12,
   "id": "d7fec8fd",
   "metadata": {
    "scrolled": true
   },
   "outputs": [
    {
     "name": "stdout",
     "output_type": "stream",
     "text": [
      "i am never going to give should not say cannot bear lose bold brash visit w3schools\n"
     ]
    }
   ],
   "source": [
    "text = \"I’m never gonna give you up. But I shouldn't say that I can't bear to lose you.\\n https://youtube.com <strong> Bold and brash </strong> \\n<a href='https://www.w3schools.com'>Visit W3Schools</a>\"\n",
    "cleaned_words = text_cleaner(text)\n",
    "print(cleaned_words)"
   ]
  },
  {
   "cell_type": "markdown",
   "id": "8e9a43d4",
   "metadata": {},
   "source": [
    "# Data Preprocessing and Categorization\n",
    "    - Preprocessing the text data in the dataframe/dataset using the \"text_cleaner\" function.\n",
    "    - Categorizing the reviews into \"Positive\", \"Neutral\", or \"Negative\" based on the associated score."
   ]
  },
  {
   "cell_type": "code",
   "execution_count": 13,
   "id": "921f659e",
   "metadata": {
    "scrolled": true
   },
   "outputs": [
    {
     "data": {
      "text/html": [
       "<div>\n",
       "<style scoped>\n",
       "    .dataframe tbody tr th:only-of-type {\n",
       "        vertical-align: middle;\n",
       "    }\n",
       "\n",
       "    .dataframe tbody tr th {\n",
       "        vertical-align: top;\n",
       "    }\n",
       "\n",
       "    .dataframe thead th {\n",
       "        text-align: right;\n",
       "    }\n",
       "</style>\n",
       "<table border=\"1\" class=\"dataframe\">\n",
       "  <thead>\n",
       "    <tr style=\"text-align: right;\">\n",
       "      <th></th>\n",
       "      <th>Score</th>\n",
       "      <th>Reviews</th>\n",
       "      <th>Feedback</th>\n",
       "    </tr>\n",
       "  </thead>\n",
       "  <tbody>\n",
       "    <tr>\n",
       "      <th>0</th>\n",
       "      <td>5</td>\n",
       "      <td>bought several vitality canned dog food produc...</td>\n",
       "      <td>Positive</td>\n",
       "    </tr>\n",
       "    <tr>\n",
       "      <th>1</th>\n",
       "      <td>1</td>\n",
       "      <td>product arrived labeled jumbo salted peanuts p...</td>\n",
       "      <td>Negative</td>\n",
       "    </tr>\n",
       "    <tr>\n",
       "      <th>2</th>\n",
       "      <td>4</td>\n",
       "      <td>confection around centuries light pillowy citr...</td>\n",
       "      <td>Positive</td>\n",
       "    </tr>\n",
       "    <tr>\n",
       "      <th>3</th>\n",
       "      <td>2</td>\n",
       "      <td>looking secret ingredient robitussin believe f...</td>\n",
       "      <td>Negative</td>\n",
       "    </tr>\n",
       "    <tr>\n",
       "      <th>4</th>\n",
       "      <td>5</td>\n",
       "      <td>great taffy great price wide assortment yummy ...</td>\n",
       "      <td>Positive</td>\n",
       "    </tr>\n",
       "  </tbody>\n",
       "</table>\n",
       "</div>"
      ],
      "text/plain": [
       "   Score                                            Reviews  Feedback\n",
       "0      5  bought several vitality canned dog food produc...  Positive\n",
       "1      1  product arrived labeled jumbo salted peanuts p...  Negative\n",
       "2      4  confection around centuries light pillowy citr...  Positive\n",
       "3      2  looking secret ingredient robitussin believe f...  Negative\n",
       "4      5  great taffy great price wide assortment yummy ...  Positive"
      ]
     },
     "execution_count": 13,
     "metadata": {},
     "output_type": "execute_result"
    }
   ],
   "source": [
    "df['Reviews'] = df['Reviews'].apply(text_cleaner)\n",
    "conditions = [\n",
    "    (df['Score'] >= 4),\n",
    "    (df['Score'] == 3),\n",
    "    (df['Score'] <= 2)\n",
    "    ]\n",
    "values = ['Positive', 'Neutral', 'Negative']\n",
    "df['Feedback'] = np.select(conditions, values)\n",
    "df.head()"
   ]
  },
  {
   "cell_type": "code",
   "execution_count": 14,
   "id": "6f406c34",
   "metadata": {
    "scrolled": true
   },
   "outputs": [
    {
     "name": "stdout",
     "output_type": "stream",
     "text": [
      "    Score                                            Reviews  Feedback\n",
      "0       5  bought several vitality canned dog food produc...  Positive\n",
      "1       1  product arrived labeled jumbo salted peanuts p...  Negative\n",
      "2       4  confection around centuries light pillowy citr...  Positive\n",
      "3       2  looking secret ingredient robitussin believe f...  Negative\n",
      "4       5  great taffy great price wide assortment yummy ...  Positive\n",
      "5       4  got wild hair taffy ordered five pound bag taf...  Positive\n",
      "6       5  saltwater taffy great flavors soft chewy candy...  Positive\n",
      "7       5  taffy good soft chewy flavors amazing would de...  Positive\n",
      "8       5  right mostly sprouting cats eat grass love rot...  Positive\n",
      "9       5  healthy dog food good digestion also good smal...  Positive\n",
      "10      5  nt know cactus tequila unique combination ingr...  Positive\n",
      "11      5  one boys needed lose weight nt put food floor ...  Positive\n",
      "12      1  cats happily eating felidae platinum two years...  Negative\n",
      "13      4  good flavor came securely packed fresh delicio...  Positive\n",
      "14      5  strawberry twizzlers guilty pleasure yummy six...  Positive\n",
      "15      5  daughter loves twizzlers shipment six pounds r...  Positive\n",
      "16      2  love eating good watching tv looking movies no...  Negative\n",
      "17      5  satisfied twizzler purchase shared others enjo...  Positive\n",
      "18      5  twizzlers strawberry childhood favorite candy ...  Positive\n",
      "19      5  candy delivered fast purchased reasonable pric...  Positive\n"
     ]
    }
   ],
   "source": [
    "print(df.head(20))"
   ]
  },
  {
   "cell_type": "markdown",
   "id": "b4b48a09",
   "metadata": {},
   "source": [
    "# Review Counting\n",
    "    - Analyzing the count of each distinct feedback value for comparison."
   ]
  },
  {
   "cell_type": "code",
   "execution_count": 15,
   "id": "2a92e974",
   "metadata": {},
   "outputs": [
    {
     "name": "stdout",
     "output_type": "stream",
     "text": [
      "Feedback\n",
      "Positive    306758\n",
      "Negative     57067\n",
      "Neutral      29754\n",
      "Name: count, dtype: int64\n"
     ]
    },
    {
     "data": {
      "text/plain": [
       "<Axes: xlabel='Feedback'>"
      ]
     },
     "execution_count": 15,
     "metadata": {},
     "output_type": "execute_result"
    },
    {
     "data": {
      "image/png": "[encoded data removed]",
      "text/plain": [
       "<Figure size 640x480 with 1 Axes>"
      ]
     },
     "metadata": {},
     "output_type": "display_data"
    }
   ],
   "source": [
    "print(df['Feedback'].value_counts())\n",
    "import matplotlib.pyplot as plt\n",
    "df['Feedback'].value_counts().sort_index().plot.bar(color=['red', 'blue', 'green'])"
   ]
  },
  {
   "cell_type": "markdown",
   "id": "1b674e75",
   "metadata": {},
   "source": [
    "# DATASET SPLITTING\n",
    "    Purpose: For Splitting the dataset for Training and Testing\n",
    "    1. Creating an array(x,y variable) and store the value into one array/list of Reviews(x) and feedback(y) on the  \n",
    "    dataframe/dataset.\n",
    "    \n",
    "    2. Counting the length of the array before splitting.\n",
    "    \n",
    "    3. Importing (\"train_test_split\") to use to split the data of (x and y),which (\"test_size = 0.2\") stating 80% of\n",
    "    data/list/array for training goes to ->(x_train,y_train), and 20% of data/list/array for testing goes to ->(x_test,y_test). \n",
    "    The (\"random_state = 0\") can be set to \"0 or 1\", 0 means no shuffling of data before splitting the data, and 1 means\n",
    "    shuffling the data before splitting the data \n",
    "    [Note: (\"random_state = 0\") can be deleted if not using this function or the value is \"0\" because the default splitting \n",
    "    of the function (\"train_test_split\") is \"default=None\"] \n",
    "--->https://scikit-learn.org/stable/modules/generated/sklearn.model_selection.train_test_split.html\n",
    "    \n",
    "    4. Counting the length of the array/list of (x_train, x_test) after splitting happen. \n",
    "    [Note: The x_train and x_test value is the Reviews(x) but]\n",
    "        - 80% of data of \"Reviews(x)\" goes to \"x_train\" for training\n",
    "        - 20% of data of \"Reviews(x)\" goes to \"x_test for testing\n",
    "        \n",
    "    5. Counting the length of the array/list of (y_train) after splitting happen. Then Preview and counting of unique values \n",
    "    inside of the (y_train).\n",
    "    [Note: The y_train value is the feedback(y) but]\n",
    "        - 80% of data of \"feedback(y)\" goes to \"y_train\" for training\n",
    "        \n",
    "    6. Counting the length of the array/list of (y_test) after splitting happen. Then Preview and counting of unique values \n",
    "    inside of the (y_test).\n",
    "    [Note: The y_test value is the feedback(y) but]\n",
    "        - 20% of data of \"feedback(y)\" goes to \"y_test\" for training"
   ]
  },
  {
   "cell_type": "code",
   "execution_count": 16,
   "id": "e3898dbb",
   "metadata": {},
   "outputs": [
    {
     "name": "stdout",
     "output_type": "stream",
     "text": [
      "Number of value/Review text in x varaible: 393579\n",
      "Number of value/Feedback text in y varaible: 393579\n"
     ]
    }
   ],
   "source": [
    "#1\n",
    "x = df['Reviews']\n",
    "y = df['Feedback']\n",
    "#2\n",
    "print(f\"Number of value/Review text in x varaible: {len(x)}\")\n",
    "print(f\"Number of value/Feedback text in y varaible: {len(y)}\")\n",
    "\n",
    "#3\n",
    "from sklearn.model_selection import train_test_split\n",
    "x_train,x_test,y_train,y_test = train_test_split(x,y,test_size = 0.2,random_state = 0)"
   ]
  },
  {
   "cell_type": "code",
   "execution_count": 17,
   "id": "1f884071",
   "metadata": {
    "scrolled": true
   },
   "outputs": [
    {
     "name": "stdout",
     "output_type": "stream",
     "text": [
      "Number of review texts in x_train after splitting: 314863\n",
      "Number of review texts in x_test after splitting: 78716\n"
     ]
    }
   ],
   "source": [
    "#4\n",
    "print(f\"Number of review texts in x_train after splitting: {len(x_train)}\")\n",
    "print(f\"Number of review texts in x_test after splitting: {len(x_test)}\")"
   ]
  },
  {
   "cell_type": "code",
   "execution_count": 18,
   "id": "068251dc",
   "metadata": {
    "scrolled": false
   },
   "outputs": [
    {
     "name": "stdout",
     "output_type": "stream",
     "text": [
      "Number of review texts in y_train after splitting: 314863\n",
      "\n",
      "Unique Value and its counts in y_train\n",
      "---------------------------------------\n",
      "Negative:      45586\n",
      "Neutral:      23821\n",
      "Positive:      245456\n"
     ]
    }
   ],
   "source": [
    "#5\n",
    "print(f\"Number of review texts in y_train after splitting: {len(y_train)}\\n\")\n",
    "\n",
    "unique_value, counts = np.unique(y_train,return_counts=True)\n",
    "print(\"Unique Value and its counts in y_train\")\n",
    "print(\"---------------------------------------\")\n",
    "for unique_value, counts in zip(unique_value, counts):\n",
    "    print(f\"{unique_value}:      {counts}\")"
   ]
  },
  {
   "cell_type": "code",
   "execution_count": 32,
   "id": "678cbeb9",
   "metadata": {
    "scrolled": false
   },
   "outputs": [
    {
     "name": "stdout",
     "output_type": "stream",
     "text": [
      "Number of review texts in y_train after splitting:78716\n",
      "\n",
      "Unique Value and its counts in y_test\n",
      "---------------------------------------\n",
      "Negative:      11481\n",
      "Neutral:      5933\n",
      "Positive:      61302\n"
     ]
    }
   ],
   "source": [
    "#6\n",
    "print(f\"Number of review texts in y_test after splitting:{len(y_test)}\\n\")\n",
    "\n",
    "unique_value, counts = np.unique(y_test,return_counts=True)\n",
    "print(\"Unique Value and its counts in y_test\")\n",
    "print(\"---------------------------------------\")\n",
    "for unique_value, counts in zip(unique_value, counts):\n",
    "    print(f\"{unique_value}:      {counts}\")"
   ]
  },
  {
   "cell_type": "markdown",
   "id": "4fe67020",
   "metadata": {},
   "source": [
    "# # Model 1\n",
    "    • Vectorization using Hashing Vectorizer\n",
    "    • Using Linear SVC Classifier\n",
    "    • Model Evaluation"
   ]
  },
  {
   "cell_type": "code",
   "execution_count": 33,
   "id": "32ee630d",
   "metadata": {},
   "outputs": [
    {
     "name": "stderr",
     "output_type": "stream",
     "text": [
      "C:\\Users\\jeste\\AppData\\Local\\Programs\\Python\\Python311\\Lib\\site-packages\\sklearn\\svm\\_classes.py:32: FutureWarning: The default value of `dual` will change from `True` to `'auto'` in 1.5. Set the value of `dual` explicitly to suppress the warning.\n",
      "  warnings.warn(\n"
     ]
    },
    {
     "name": "stdout",
     "output_type": "stream",
     "text": [
      "(array(['Negative', 'Neutral', 'Positive'], dtype=object), array([10995,  1942, 65779], dtype=int64))\n"
     ]
    }
   ],
   "source": [
    "from sklearn.feature_extraction.text import HashingVectorizer\n",
    "from sklearn.svm import LinearSVC\n",
    "Hvectorizer = HashingVectorizer(ngram_range=(1, 2))\n",
    "classifier1 = LinearSVC()\n",
    "\n",
    "x_train_hvectorized = Hvectorizer.transform(x_train)\n",
    "x_test_hvectorized = Hvectorizer.transform(x_test)\n",
    "\n",
    "classifier1.fit(x_train_hvectorized, y_train)\n",
    "y_pred1 = classifier1.predict(x_test_hvectorized)\n",
    "\n",
    "\n",
    "print(np.unique(y_pred1, return_counts=True))\n"
   ]
  },
  {
   "cell_type": "code",
   "execution_count": 34,
   "id": "218147e1",
   "metadata": {},
   "outputs": [
    {
     "name": "stdout",
     "output_type": "stream",
     "text": [
      "Accuracy Score: 87.8982671883734\n"
     ]
    }
   ],
   "source": [
    "from sklearn.metrics import accuracy_score, confusion_matrix, classification_report\n",
    "accuracy = accuracy_score(y_pred1, y_test)\n",
    "print(f\"Accuracy Score: {accuracy * 100}\")"
   ]
  },
  {
   "cell_type": "code",
   "execution_count": 35,
   "id": "214229f1",
   "metadata": {},
   "outputs": [
    {
     "data": {
      "text/plain": [
       "array([[ 8407,  1467,  1121],\n",
       "       [  434,  1055,   453],\n",
       "       [ 2640,  3411, 59728]], dtype=int64)"
      ]
     },
     "execution_count": 35,
     "metadata": {},
     "output_type": "execute_result"
    }
   ],
   "source": [
    "confusion_matrix(y_pred1,y_test)"
   ]
  },
  {
   "cell_type": "code",
   "execution_count": 36,
   "id": "5dc42445",
   "metadata": {},
   "outputs": [
    {
     "name": "stdout",
     "output_type": "stream",
     "text": [
      "              precision    recall  f1-score   support\n",
      "\n",
      "    Negative       0.73      0.76      0.75     10995\n",
      "     Neutral       0.18      0.54      0.27      1942\n",
      "    Positive       0.97      0.91      0.94     65779\n",
      "\n",
      "    accuracy                           0.88     78716\n",
      "   macro avg       0.63      0.74      0.65     78716\n",
      "weighted avg       0.92      0.88      0.90     78716\n",
      "\n"
     ]
    }
   ],
   "source": [
    "print(classification_report(y_pred1,y_test))"
   ]
  },
  {
   "cell_type": "code",
   "execution_count": 37,
   "id": "eb4e94bc",
   "metadata": {},
   "outputs": [
    {
     "name": "stdout",
     "output_type": "stream",
     "text": [
      "['Negative']\n"
     ]
    }
   ],
   "source": [
    "text = \"I didn't like the food.\"\n",
    "cleaned_words = text_cleaner(text)\n",
    "cleaned_words_vectorized = Hvectorizer.transform([cleaned_words])\n",
    "prediction = classifier1.predict(cleaned_words_vectorized)\n",
    "\n",
    "print(prediction)"
   ]
  },
  {
   "cell_type": "markdown",
   "id": "c3203c84",
   "metadata": {},
   "source": [
    "# Model 2\n",
    "    • Vectorization using Tfidf Vectorizer\n",
    "    • Using Linear SVC Classifier\n",
    "    • Model Evaluation"
   ]
  },
  {
   "cell_type": "code",
   "execution_count": 25,
   "id": "072cff67",
   "metadata": {},
   "outputs": [
    {
     "name": "stderr",
     "output_type": "stream",
     "text": [
      "C:\\Users\\jeste\\AppData\\Local\\Programs\\Python\\Python311\\Lib\\site-packages\\sklearn\\svm\\_classes.py:32: FutureWarning: The default value of `dual` will change from `True` to `'auto'` in 1.5. Set the value of `dual` explicitly to suppress the warning.\n",
      "  warnings.warn(\n"
     ]
    },
    {
     "name": "stdout",
     "output_type": "stream",
     "text": [
      "(array(['Negative', 'Neutral', 'Positive'], dtype=object), array([11143,  2142, 65431], dtype=int64))\n"
     ]
    }
   ],
   "source": [
    "from sklearn.feature_extraction.text import TfidfVectorizer\n",
    "from sklearn.svm import LinearSVC\n",
    "Tvectorizer = TfidfVectorizer(ngram_range=(1, 2))\n",
    "classifier2 = LinearSVC()\n",
    "\n",
    "Tvectorizer.fit(x_train)\n",
    "\n",
    "x_train_tvectorized = Tvectorizer.transform(x_train)\n",
    "x_test_tvectorized = Tvectorizer.transform(x_test)\n",
    "\n",
    "classifier2.fit(x_train_tvectorized, y_train)\n",
    "y_pred2 = classifier2.predict(x_test_tvectorized)\n",
    "\n",
    "print(np.unique(y_pred2, return_counts=True))"
   ]
  },
  {
   "cell_type": "code",
   "execution_count": 26,
   "id": "14f668df",
   "metadata": {},
   "outputs": [
    {
     "name": "stdout",
     "output_type": "stream",
     "text": [
      "Accuracy Score: 88.13074851364398\n"
     ]
    }
   ],
   "source": [
    "from sklearn.metrics import accuracy_score, confusion_matrix, classification_report\n",
    "accuracy2 = accuracy_score(y_pred2, y_test)\n",
    "print(f\"Accuracy Score: {accuracy2 * 100}\")"
   ]
  },
  {
   "cell_type": "code",
   "execution_count": 27,
   "id": "f6ee4d55",
   "metadata": {},
   "outputs": [
    {
     "data": {
      "text/plain": [
       "array([[ 8526,  1510,  1107],\n",
       "       [  476,  1159,   507],\n",
       "       [ 2479,  3264, 59688]], dtype=int64)"
      ]
     },
     "execution_count": 27,
     "metadata": {},
     "output_type": "execute_result"
    }
   ],
   "source": [
    "confusion_matrix(y_pred2,y_test)"
   ]
  },
  {
   "cell_type": "code",
   "execution_count": 28,
   "id": "74f14efb",
   "metadata": {
    "scrolled": true
   },
   "outputs": [
    {
     "name": "stdout",
     "output_type": "stream",
     "text": [
      "              precision    recall  f1-score   support\n",
      "\n",
      "    Negative       0.74      0.77      0.75     11143\n",
      "     Neutral       0.20      0.54      0.29      2142\n",
      "    Positive       0.97      0.91      0.94     65431\n",
      "\n",
      "    accuracy                           0.88     78716\n",
      "   macro avg       0.64      0.74      0.66     78716\n",
      "weighted avg       0.92      0.88      0.90     78716\n",
      "\n"
     ]
    }
   ],
   "source": [
    "print(classification_report(y_pred2,y_test))"
   ]
  },
  {
   "cell_type": "code",
   "execution_count": 29,
   "id": "a3a3d446",
   "metadata": {},
   "outputs": [
    {
     "name": "stdout",
     "output_type": "stream",
     "text": [
      "['Negative']\n"
     ]
    }
   ],
   "source": [
    "text = \"I didn't like the food.\"\n",
    "cleaned_words = text_cleaner(text)\n",
    "cleaned_words_vectorized = Tvectorizer.transform([cleaned_words])\n",
    "prediction = classifier2.predict(cleaned_words_vectorized)\n",
    "\n",
    "print(prediction)"
   ]
  },
  {
   "cell_type": "code",
   "execution_count": 30,
   "id": "0c2da859",
   "metadata": {},
   "outputs": [
    {
     "name": "stdout",
     "output_type": "stream",
     "text": [
      "['Positive']\n"
     ]
    }
   ],
   "source": [
    "cleaned_words_vectorized = Tvectorizer.transform([\"I didn't like the food.\"])\n",
    "prediction = classifier2.predict(cleaned_words_vectorized)\n",
    "\n",
    "print(prediction)"
   ]
  },
  {
   "cell_type": "code",
   "execution_count": 31,
   "id": "8849b9cb",
   "metadata": {},
   "outputs": [
    {
     "data": {
      "text/plain": [
       "['Tvectorizer.joblib']"
      ]
     },
     "execution_count": 31,
     "metadata": {},
     "output_type": "execute_result"
    }
   ],
   "source": [
    "import joblib\n",
    "\n",
    "joblib.dump(classifier2, \"classifier2.joblib\")\n",
    "joblib.dump(Tvectorizer, \"Tvectorizer.joblib\")"
   ]
  },
  {
   "cell_type": "code",
   "execution_count": null,
   "id": "80572f2f",
   "metadata": {},
   "outputs": [],
   "source": []
  }
 ],
 "metadata": {
  "kernelspec": {
   "display_name": "Python 3 (ipykernel)",
   "language": "python",
   "name": "python3"
  },
  "language_info": {
   "codemirror_mode": {
    "name": "ipython",
    "version": 3
   },
   "file_extension": ".py",
   "mimetype": "text/x-python",
   "name": "python",
   "nbconvert_exporter": "python",
   "pygments_lexer": "ipython3",
   "version": "3.11.4"
  }
 },
 "nbformat": 4,
 "nbformat_minor": 5
}
