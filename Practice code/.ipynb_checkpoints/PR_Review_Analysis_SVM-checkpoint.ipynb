{
 "cells": [
  {
   "cell_type": "markdown",
   "id": "84a14f96",
   "metadata": {},
   "source": [
    "# DATA LOADING"
   ]
  },
  {
   "cell_type": "code",
   "execution_count": 1,
   "id": "616ea276",
   "metadata": {
    "scrolled": true
   },
   "outputs": [
    {
     "data": {
      "text/html": [
       "<div>\n",
       "<style scoped>\n",
       "    .dataframe tbody tr th:only-of-type {\n",
       "        vertical-align: middle;\n",
       "    }\n",
       "\n",
       "    .dataframe tbody tr th {\n",
       "        vertical-align: top;\n",
       "    }\n",
       "\n",
       "    .dataframe thead th {\n",
       "        text-align: right;\n",
       "    }\n",
       "</style>\n",
       "<table border=\"1\" class=\"dataframe\">\n",
       "  <thead>\n",
       "    <tr style=\"text-align: right;\">\n",
       "      <th></th>\n",
       "      <th>Score</th>\n",
       "      <th>Text</th>\n",
       "      <th>Sentiment</th>\n",
       "      <th>Tokens</th>\n",
       "    </tr>\n",
       "  </thead>\n",
       "  <tbody>\n",
       "    <tr>\n",
       "      <th>0</th>\n",
       "      <td>3</td>\n",
       "      <td>the service was great but the cats didnot like...</td>\n",
       "      <td>Neutral</td>\n",
       "      <td>['service', 'great', 'cats', 'didnot', 'like',...</td>\n",
       "    </tr>\n",
       "    <tr>\n",
       "      <th>1</th>\n",
       "      <td>3</td>\n",
       "      <td>Good:  I love the taste &amp; the fact that it is ...</td>\n",
       "      <td>Neutral</td>\n",
       "      <td>['good', 'love', 'taste', 'fact', 'low', 'sodi...</td>\n",
       "    </tr>\n",
       "    <tr>\n",
       "      <th>2</th>\n",
       "      <td>3</td>\n",
       "      <td>Fishy smell yes, weird texture yes. The smell ...</td>\n",
       "      <td>Neutral</td>\n",
       "      <td>['fishy', 'smell', 'yes', 'weird', 'texture', ...</td>\n",
       "    </tr>\n",
       "    <tr>\n",
       "      <th>3</th>\n",
       "      <td>1</td>\n",
       "      <td>Hey, when Amazon sold me this exact case of Be...</td>\n",
       "      <td>Negative</td>\n",
       "      <td>['hey', 'amazon', 'sold', 'exact', 'case', 'be...</td>\n",
       "    </tr>\n",
       "    <tr>\n",
       "      <th>4</th>\n",
       "      <td>5</td>\n",
       "      <td>KIND PLUS Pomegranate Blueberry Pistachio bars...</td>\n",
       "      <td>Positive</td>\n",
       "      <td>['kind', 'plus', 'pomegranate', 'blueberry', '...</td>\n",
       "    </tr>\n",
       "  </tbody>\n",
       "</table>\n",
       "</div>"
      ],
      "text/plain": [
       "   Score                                               Text Sentiment  \\\n",
       "0      3  the service was great but the cats didnot like...   Neutral   \n",
       "1      3  Good:  I love the taste & the fact that it is ...   Neutral   \n",
       "2      3  Fishy smell yes, weird texture yes. The smell ...   Neutral   \n",
       "3      1  Hey, when Amazon sold me this exact case of Be...  Negative   \n",
       "4      5  KIND PLUS Pomegranate Blueberry Pistachio bars...  Positive   \n",
       "\n",
       "                                              Tokens  \n",
       "0  ['service', 'great', 'cats', 'didnot', 'like',...  \n",
       "1  ['good', 'love', 'taste', 'fact', 'low', 'sodi...  \n",
       "2  ['fishy', 'smell', 'yes', 'weird', 'texture', ...  \n",
       "3  ['hey', 'amazon', 'sold', 'exact', 'case', 'be...  \n",
       "4  ['kind', 'plus', 'pomegranate', 'blueberry', '...  "
      ]
     },
     "execution_count": 1,
     "metadata": {},
     "output_type": "execute_result"
    }
   ],
   "source": [
    "import numpy as np\n",
    "import pandas as pd\n",
    "import sklearn\n",
    "df = pd.read_csv(r\"D:\\Downloads\\Copy of negated_dataset.csv\")\n",
    "df.head()"
   ]
  },
  {
   "cell_type": "markdown",
   "id": "d7e5bce3",
   "metadata": {},
   "source": [
    "# DATA MODIFICATIONS"
   ]
  },
  {
   "cell_type": "code",
   "execution_count": 2,
   "id": "7271b665",
   "metadata": {
    "scrolled": true
   },
   "outputs": [
    {
     "data": {
      "text/html": [
       "<div>\n",
       "<style scoped>\n",
       "    .dataframe tbody tr th:only-of-type {\n",
       "        vertical-align: middle;\n",
       "    }\n",
       "\n",
       "    .dataframe tbody tr th {\n",
       "        vertical-align: top;\n",
       "    }\n",
       "\n",
       "    .dataframe thead th {\n",
       "        text-align: right;\n",
       "    }\n",
       "</style>\n",
       "<table border=\"1\" class=\"dataframe\">\n",
       "  <thead>\n",
       "    <tr style=\"text-align: right;\">\n",
       "      <th></th>\n",
       "      <th>Score</th>\n",
       "      <th>Reviews</th>\n",
       "    </tr>\n",
       "  </thead>\n",
       "  <tbody>\n",
       "    <tr>\n",
       "      <th>0</th>\n",
       "      <td>3</td>\n",
       "      <td>the service was great but the cats didnot like...</td>\n",
       "    </tr>\n",
       "    <tr>\n",
       "      <th>1</th>\n",
       "      <td>3</td>\n",
       "      <td>Good:  I love the taste &amp; the fact that it is ...</td>\n",
       "    </tr>\n",
       "    <tr>\n",
       "      <th>2</th>\n",
       "      <td>3</td>\n",
       "      <td>Fishy smell yes, weird texture yes. The smell ...</td>\n",
       "    </tr>\n",
       "    <tr>\n",
       "      <th>3</th>\n",
       "      <td>1</td>\n",
       "      <td>Hey, when Amazon sold me this exact case of Be...</td>\n",
       "    </tr>\n",
       "    <tr>\n",
       "      <th>4</th>\n",
       "      <td>5</td>\n",
       "      <td>KIND PLUS Pomegranate Blueberry Pistachio bars...</td>\n",
       "    </tr>\n",
       "  </tbody>\n",
       "</table>\n",
       "</div>"
      ],
      "text/plain": [
       "   Score                                            Reviews\n",
       "0      3  the service was great but the cats didnot like...\n",
       "1      3  Good:  I love the taste & the fact that it is ...\n",
       "2      3  Fishy smell yes, weird texture yes. The smell ...\n",
       "3      1  Hey, when Amazon sold me this exact case of Be...\n",
       "4      5  KIND PLUS Pomegranate Blueberry Pistachio bars..."
      ]
     },
     "execution_count": 2,
     "metadata": {},
     "output_type": "execute_result"
    }
   ],
   "source": [
    "df = df [[\"Score\", \"Text\"]]\n",
    "df = df.rename({\"Text\" : \"Reviews\"}, axis=1)\n",
    "df.head()"
   ]
  },
  {
   "cell_type": "markdown",
   "id": "46f64290",
   "metadata": {},
   "source": [
    "# DATA COUNTING"
   ]
  },
  {
   "cell_type": "code",
   "execution_count": 3,
   "id": "3049f2d0",
   "metadata": {},
   "outputs": [
    {
     "data": {
      "text/plain": [
       "Score\n",
       "3    29769\n",
       "5    24357\n",
       "1    19015\n",
       "2    10754\n",
       "4     5412\n",
       "Name: count, dtype: int64"
      ]
     },
     "execution_count": 3,
     "metadata": {},
     "output_type": "execute_result"
    }
   ],
   "source": [
    "df['Score'].value_counts()"
   ]
  },
  {
   "cell_type": "code",
   "execution_count": 4,
   "id": "7490f3e0",
   "metadata": {
    "scrolled": true
   },
   "outputs": [
    {
     "data": {
      "text/plain": [
       "(89307, 2)"
      ]
     },
     "execution_count": 4,
     "metadata": {},
     "output_type": "execute_result"
    }
   ],
   "source": [
    "df.shape"
   ]
  },
  {
   "cell_type": "markdown",
   "id": "4450c23b",
   "metadata": {},
   "source": [
    "# TEXT CLEANING"
   ]
  },
  {
   "cell_type": "code",
   "execution_count": 5,
   "id": "fc2a1087",
   "metadata": {},
   "outputs": [
    {
     "data": {
      "text/plain": [
       "179"
      ]
     },
     "execution_count": 5,
     "metadata": {},
     "output_type": "execute_result"
    }
   ],
   "source": [
    "import nltk\n",
    "from nltk.corpus import stopwords\n",
    "stop_words = set(stopwords.words('english'))\n",
    "len(stop_words)"
   ]
  },
  {
   "cell_type": "code",
   "execution_count": 6,
   "id": "bf9a43a3",
   "metadata": {},
   "outputs": [
    {
     "data": {
      "text/plain": [
       "160"
      ]
     },
     "execution_count": 6,
     "metadata": {},
     "output_type": "execute_result"
    }
   ],
   "source": [
    "negative_words = {'no', 'not', \"don't\", \"aren't\", \"couldn't\", \"didn't\", \"doesn't\", \"hadn't\", \"hasn't\", \"haven't\", \"isn't\", \"mightn't\", \"mustn't\", \"needn't\", \"shouldn't\", \"wasn't\", \"weren't\", \"won't\", \"wouldn't\"}\n",
    "stop_words = set(stop_words)\n",
    "\n",
    "stop_words -= negative_words\n",
    "len_stop_words = len(stop_words)\n",
    "\n",
    "len(stop_words)"
   ]
  },
  {
   "cell_type": "code",
   "execution_count": 7,
   "id": "8dc30938",
   "metadata": {},
   "outputs": [],
   "source": [
    "import re\n",
    "from bs4 import BeautifulSoup\n",
    "import nltk\n",
    "from nltk.corpus import stopwords\n",
    "\n",
    "REPLACE_BY_SPACE_RE = re.compile(r'[^\\w\\s]')\n",
    "def text_cleaner(text):\n",
    "\n",
    "    text = BeautifulSoup(text, \"html.parser\").get_text()\n",
    "    text = text.lower()\n",
    "    text = REPLACE_BY_SPACE_RE.sub(' ', text)\n",
    "    text = re.split(r'\\s+', text.strip())\n",
    "    cleaned_text = \" \".join(word for word in text if word not in stop_words)\n",
    "    return cleaned_text"
   ]
  },
  {
   "cell_type": "code",
   "execution_count": 8,
   "id": "9f1294f2",
   "metadata": {
    "scrolled": true
   },
   "outputs": [
    {
     "name": "stdout",
     "output_type": "stream",
     "text": [
      "Index(['Score', 'Reviews'], dtype='object')\n"
     ]
    }
   ],
   "source": [
    "print(df.columns)"
   ]
  },
  {
   "cell_type": "markdown",
   "id": "8e9a43d4",
   "metadata": {},
   "source": [
    "# DATA OVERVIEW"
   ]
  },
  {
   "cell_type": "code",
   "execution_count": 9,
   "id": "921f659e",
   "metadata": {},
   "outputs": [
    {
     "name": "stderr",
     "output_type": "stream",
     "text": [
      "C:\\Users\\jeste\\AppData\\Local\\Temp\\ipykernel_12576\\4127126769.py:9: MarkupResemblesLocatorWarning: The input looks more like a filename than markup. You may want to open this file and pass the filehandle into Beautiful Soup.\n",
      "  text = BeautifulSoup(text, \"html.parser\").get_text()\n"
     ]
    },
    {
     "data": {
      "text/html": [
       "<div>\n",
       "<style scoped>\n",
       "    .dataframe tbody tr th:only-of-type {\n",
       "        vertical-align: middle;\n",
       "    }\n",
       "\n",
       "    .dataframe tbody tr th {\n",
       "        vertical-align: top;\n",
       "    }\n",
       "\n",
       "    .dataframe thead th {\n",
       "        text-align: right;\n",
       "    }\n",
       "</style>\n",
       "<table border=\"1\" class=\"dataframe\">\n",
       "  <thead>\n",
       "    <tr style=\"text-align: right;\">\n",
       "      <th></th>\n",
       "      <th>Score</th>\n",
       "      <th>Reviews</th>\n",
       "      <th>Overview</th>\n",
       "    </tr>\n",
       "  </thead>\n",
       "  <tbody>\n",
       "    <tr>\n",
       "      <th>0</th>\n",
       "      <td>3</td>\n",
       "      <td>service great cats didnot like guess not order...</td>\n",
       "      <td>Neutral</td>\n",
       "    </tr>\n",
       "    <tr>\n",
       "      <th>1</th>\n",
       "      <td>3</td>\n",
       "      <td>good love taste fact low sodium bad advertisem...</td>\n",
       "      <td>Neutral</td>\n",
       "    </tr>\n",
       "    <tr>\n",
       "      <th>2</th>\n",
       "      <td>3</td>\n",
       "      <td>fishy smell yes weird texture yes smell really...</td>\n",
       "      <td>Neutral</td>\n",
       "    </tr>\n",
       "    <tr>\n",
       "      <th>3</th>\n",
       "      <td>1</td>\n",
       "      <td>hey amazon sold exact case bechtle traditional...</td>\n",
       "      <td>Negative</td>\n",
       "    </tr>\n",
       "    <tr>\n",
       "      <th>4</th>\n",
       "      <td>5</td>\n",
       "      <td>kind plus pomegranate blueberry pistachio bars...</td>\n",
       "      <td>Positive</td>\n",
       "    </tr>\n",
       "  </tbody>\n",
       "</table>\n",
       "</div>"
      ],
      "text/plain": [
       "   Score                                            Reviews  Overview\n",
       "0      3  service great cats didnot like guess not order...   Neutral\n",
       "1      3  good love taste fact low sodium bad advertisem...   Neutral\n",
       "2      3  fishy smell yes weird texture yes smell really...   Neutral\n",
       "3      1  hey amazon sold exact case bechtle traditional...  Negative\n",
       "4      5  kind plus pomegranate blueberry pistachio bars...  Positive"
      ]
     },
     "execution_count": 9,
     "metadata": {},
     "output_type": "execute_result"
    }
   ],
   "source": [
    "df['Reviews'] = df['Reviews'].apply(text_cleaner)\n",
    "conditions = [\n",
    "    (df['Score'] >= 4),\n",
    "    (df['Score'] == 3),\n",
    "    (df['Score'] <= 2)\n",
    "    ]\n",
    "values = ['Positive', 'Neutral', 'Negative']\n",
    "df['Overview'] = np.select(conditions, values)\n",
    "df.head()"
   ]
  },
  {
   "cell_type": "code",
   "execution_count": 10,
   "id": "2a92e974",
   "metadata": {},
   "outputs": [
    {
     "data": {
      "text/plain": [
       "<Axes: xlabel='Overview'>"
      ]
     },
     "execution_count": 10,
     "metadata": {},
     "output_type": "execute_result"
    },
    {
     "data": {
      "image/png": "[encoded data removed]",
      "text/plain": [
       "<Figure size 640x480 with 1 Axes>"
      ]
     },
     "metadata": {},
     "output_type": "display_data"
    }
   ],
   "source": [
    "import matplotlib.pyplot as plt\n",
    "df['Overview'].value_counts().sort_index().plot.bar(color=['red', 'blue', 'green'])"
   ]
  },
  {
   "cell_type": "markdown",
   "id": "1b674e75",
   "metadata": {},
   "source": [
    "# DATASET SPLITTING"
   ]
  },
  {
   "cell_type": "code",
   "execution_count": 11,
   "id": "e3898dbb",
   "metadata": {},
   "outputs": [],
   "source": [
    "x = df['Reviews'].values\n",
    "y = df['Overview'].values\n",
    "from sklearn.model_selection import train_test_split\n",
    "x_train,x_test,y_train,y_test = train_test_split(x,y,test_size = 0.2,random_state = 0,stratify = y)"
   ]
  },
  {
   "cell_type": "code",
   "execution_count": 12,
   "id": "068251dc",
   "metadata": {},
   "outputs": [
    {
     "data": {
      "text/plain": [
       "(array(['Negative', 'Neutral', 'Positive'], dtype=object),\n",
       " array([23815, 23815, 23815], dtype=int64))"
      ]
     },
     "execution_count": 12,
     "metadata": {},
     "output_type": "execute_result"
    }
   ],
   "source": [
    "np.unique(y_train,return_counts=True)"
   ]
  },
  {
   "cell_type": "code",
   "execution_count": 13,
   "id": "678cbeb9",
   "metadata": {},
   "outputs": [
    {
     "data": {
      "text/plain": [
       "(array(['Negative', 'Neutral', 'Positive'], dtype=object),\n",
       " array([5954, 5954, 5954], dtype=int64))"
      ]
     },
     "execution_count": 13,
     "metadata": {},
     "output_type": "execute_result"
    }
   ],
   "source": [
    "np.unique(y_test,return_counts=True)"
   ]
  },
  {
   "cell_type": "markdown",
   "id": "2206f6a1",
   "metadata": {},
   "source": [
    "# Pipeline 1\n",
    "    • Vectorization using TFIDF Vectorizer\n",
    "    • Uing Single SVM Algorithm\n",
    "    • Model Evaluation"
   ]
  },
  {
   "cell_type": "code",
   "execution_count": 14,
   "id": "e1d033d9",
   "metadata": {},
   "outputs": [],
   "source": [
    "from sklearn.pipeline import Pipeline\n",
    "#from sklearn.feature_extraction.text import TfidfVectorizer\n",
    "#from sklearn.svm import SVC\n",
    "#text_model = Pipeline([\n",
    "#    ('tfidf',TfidfVectorizer()),('model',SVC())\n",
    "#])\n",
    "\n",
    "#text_model.fit(x_train,y_train)\n",
    "#y_pred = text_model.predict(x_test)\n",
    "#np.unique(y_pred,return_counts=True)"
   ]
  },
  {
   "cell_type": "code",
   "execution_count": 15,
   "id": "0896227d",
   "metadata": {},
   "outputs": [],
   "source": [
    "#from sklearn.metrics import accuracy_score, classification_report, confusion_matrix\n",
    "#print(f\"Accuracy Score: {accuracy_score(y_pred, y_test) * 100}\")\n",
    "#model = accuracy_score(y_pred, y_test) * 100"
   ]
  },
  {
   "cell_type": "code",
   "execution_count": 16,
   "id": "650e3dad",
   "metadata": {},
   "outputs": [],
   "source": [
    "#confusion_matrix(y_pred,y_test)"
   ]
  },
  {
   "cell_type": "code",
   "execution_count": 17,
   "id": "8d9a3a5c",
   "metadata": {},
   "outputs": [],
   "source": [
    "#print(classification_report(y_pred,y_test))"
   ]
  },
  {
   "cell_type": "code",
   "execution_count": 18,
   "id": "b7846f77",
   "metadata": {},
   "outputs": [],
   "source": [
    "#text_model.predict(['This product is stupid!'])"
   ]
  },
  {
   "cell_type": "markdown",
   "id": "4fe67020",
   "metadata": {},
   "source": [
    "# # Pipeline 2\n",
    "    • Vectorization using Hashing Vectorizer\n",
    "    • Using Linear Kernel SVM Algorithm\n",
    "    • Model Evaluation"
   ]
  },
  {
   "cell_type": "code",
   "execution_count": 19,
   "id": "32ee630d",
   "metadata": {},
   "outputs": [
    {
     "name": "stderr",
     "output_type": "stream",
     "text": [
      "C:\\Users\\jeste\\AppData\\Local\\Programs\\Python\\Python311\\Lib\\site-packages\\sklearn\\svm\\_classes.py:32: FutureWarning: The default value of `dual` will change from `True` to `'auto'` in 1.5. Set the value of `dual` explicitly to suppress the warning.\n",
      "  warnings.warn(\n"
     ]
    },
    {
     "data": {
      "text/plain": [
       "(array(['Negative', 'Neutral', 'Positive'], dtype=object),\n",
       " array([6062, 5716, 6084], dtype=int64))"
      ]
     },
     "execution_count": 19,
     "metadata": {},
     "output_type": "execute_result"
    }
   ],
   "source": [
    "from sklearn.feature_extraction.text import HashingVectorizer\n",
    "from sklearn.svm import LinearSVC\n",
    "text_model2 = Pipeline([\n",
    "    ('tfidf', HashingVectorizer(ngram_range=(1, 2))), \n",
    "    ('model', LinearSVC())\n",
    "])\n",
    "\n",
    "text_model2.fit(x_train,y_train)\n",
    "y_pred2 = text_model2.predict(x_test)\n",
    "np.unique(y_pred2,return_counts=True)"
   ]
  },
  {
   "cell_type": "code",
   "execution_count": 20,
   "id": "218147e1",
   "metadata": {},
   "outputs": [
    {
     "name": "stdout",
     "output_type": "stream",
     "text": [
      "Accuracy Score: 78.88254394804613\n"
     ]
    }
   ],
   "source": [
    "from sklearn.metrics import accuracy_score, classification_report, confusion_matrix\n",
    "print(f\"Accuracy Score: {accuracy_score(y_pred2, y_test) * 100}\")\n",
    "model2 = accuracy_score(y_pred2, y_test) * 100"
   ]
  },
  {
   "cell_type": "code",
   "execution_count": 21,
   "id": "214229f1",
   "metadata": {},
   "outputs": [
    {
     "data": {
      "text/plain": [
       "array([[4802,  977,  283],\n",
       "       [ 859, 4237,  620],\n",
       "       [ 293,  740, 5051]], dtype=int64)"
      ]
     },
     "execution_count": 21,
     "metadata": {},
     "output_type": "execute_result"
    }
   ],
   "source": [
    "confusion_matrix(y_pred2,y_test)"
   ]
  },
  {
   "cell_type": "code",
   "execution_count": 22,
   "id": "5dc42445",
   "metadata": {},
   "outputs": [
    {
     "name": "stdout",
     "output_type": "stream",
     "text": [
      "              precision    recall  f1-score   support\n",
      "\n",
      "    Negative       0.81      0.79      0.80      6062\n",
      "     Neutral       0.71      0.74      0.73      5716\n",
      "    Positive       0.85      0.83      0.84      6084\n",
      "\n",
      "    accuracy                           0.79     17862\n",
      "   macro avg       0.79      0.79      0.79     17862\n",
      "weighted avg       0.79      0.79      0.79     17862\n",
      "\n"
     ]
    }
   ],
   "source": [
    "print(classification_report(y_pred2,y_test))"
   ]
  },
  {
   "cell_type": "code",
   "execution_count": 23,
   "id": "eb4e94bc",
   "metadata": {},
   "outputs": [
    {
     "data": {
      "text/plain": [
       "array(['Negative'], dtype=object)"
      ]
     },
     "execution_count": 23,
     "metadata": {},
     "output_type": "execute_result"
    }
   ],
   "source": [
    "text_model2.predict(['This product is stupid!'])"
   ]
  },
  {
   "cell_type": "markdown",
   "id": "c3203c84",
   "metadata": {},
   "source": [
    "# Pipeline 3\n",
    "    • Vectorization using Hashing Vectorizer\n",
    "    • Using Bagging Classifier SVM Algorithm\n",
    "    • Model Evaluation"
   ]
  },
  {
   "cell_type": "code",
   "execution_count": 24,
   "id": "072cff67",
   "metadata": {},
   "outputs": [],
   "source": [
    "#from sklearn.ensemble import BaggingClassifier\n",
    "\n",
    "#text_model3 = Pipeline([\n",
    "#    ('tfidf', HashingVectorizer(ngram_range=(1, 2))), \n",
    "#    ('model', BaggingClassifier(base_estimator=SVC(), n_estimators=10))\n",
    "#])\n",
    "\n",
    "#text_model3.fit(x_train, y_train)\n",
    "#y_pred3 = text_model3.predict(x_test)\n",
    "#np.unique(y_pred3, return_counts=True)"
   ]
  },
  {
   "cell_type": "code",
   "execution_count": 25,
   "id": "14f668df",
   "metadata": {},
   "outputs": [],
   "source": [
    "#from sklearn.metrics import accuracy_score, classification_report, confusion_matrix\n",
    "#print(f\"Accuracy Score: {accuracy_score(y_pred3, y_test) * 100}\")\n",
    "#model3 = accuracy_score(y_pred3, y_test) * 100"
   ]
  },
  {
   "cell_type": "code",
   "execution_count": 26,
   "id": "f6ee4d55",
   "metadata": {},
   "outputs": [],
   "source": [
    "#confusion_matrix(y_pred3,y_test)"
   ]
  },
  {
   "cell_type": "code",
   "execution_count": 27,
   "id": "74f14efb",
   "metadata": {
    "scrolled": true
   },
   "outputs": [],
   "source": [
    "#print(classification_report(y_pred3,y_test))"
   ]
  },
  {
   "cell_type": "code",
   "execution_count": 28,
   "id": "a3a3d446",
   "metadata": {},
   "outputs": [],
   "source": [
    "#text_model3.predict(['This product is stupid!'])"
   ]
  },
  {
   "cell_type": "markdown",
   "id": "43f98c3c",
   "metadata": {},
   "source": [
    "# Pipeline 4\n",
    "    • Vectorization using Hashing Vectorizer\n",
    "    • Using Random Forest Classifier SVM Algorithm\n",
    "    • Model Evaluation"
   ]
  },
  {
   "cell_type": "code",
   "execution_count": 29,
   "id": "03c3ca7a",
   "metadata": {},
   "outputs": [
    {
     "data": {
      "text/plain": [
       "(array(['Negative', 'Neutral', 'Positive'], dtype=object),\n",
       " array([6651, 5031, 6180], dtype=int64))"
      ]
     },
     "execution_count": 29,
     "metadata": {},
     "output_type": "execute_result"
    }
   ],
   "source": [
    "from sklearn.ensemble import RandomForestClassifier\n",
    "\n",
    "text_model4 = Pipeline([\n",
    "    ('tfidf', HashingVectorizer(ngram_range=(1, 2))), \n",
    "    ('model', RandomForestClassifier(n_estimators=10))\n",
    "])\n",
    "\n",
    "text_model4.fit(x_train, y_train)\n",
    "y_pred4 = text_model4.predict(x_test)\n",
    "np.unique(y_pred4, return_counts=True)"
   ]
  },
  {
   "cell_type": "code",
   "execution_count": 30,
   "id": "907b13ce",
   "metadata": {},
   "outputs": [
    {
     "name": "stdout",
     "output_type": "stream",
     "text": [
      "Accuracy Score: 69.24196618519763\n"
     ]
    }
   ],
   "source": [
    "from sklearn.metrics import accuracy_score, classification_report, confusion_matrix\n",
    "print(f\"Accuracy Score: {accuracy_score(y_pred4, y_test) * 100}\")\n",
    "model4 = accuracy_score(y_pred4, y_test) * 100"
   ]
  },
  {
   "cell_type": "code",
   "execution_count": 31,
   "id": "2e36fc9b",
   "metadata": {},
   "outputs": [
    {
     "data": {
      "text/plain": [
       "array([[4468, 1377,  806],\n",
       "       [ 743, 3520,  768],\n",
       "       [ 743, 1057, 4380]], dtype=int64)"
      ]
     },
     "execution_count": 31,
     "metadata": {},
     "output_type": "execute_result"
    }
   ],
   "source": [
    "confusion_matrix(y_pred4,y_test)"
   ]
  },
  {
   "cell_type": "code",
   "execution_count": 32,
   "id": "aa937c34",
   "metadata": {},
   "outputs": [
    {
     "name": "stdout",
     "output_type": "stream",
     "text": [
      "              precision    recall  f1-score   support\n",
      "\n",
      "    Negative       0.75      0.67      0.71      6651\n",
      "     Neutral       0.59      0.70      0.64      5031\n",
      "    Positive       0.74      0.71      0.72      6180\n",
      "\n",
      "    accuracy                           0.69     17862\n",
      "   macro avg       0.69      0.69      0.69     17862\n",
      "weighted avg       0.70      0.69      0.69     17862\n",
      "\n"
     ]
    }
   ],
   "source": [
    "print(classification_report(y_pred4,y_test))"
   ]
  },
  {
   "cell_type": "code",
   "execution_count": 33,
   "id": "834f9eca",
   "metadata": {
    "scrolled": true
   },
   "outputs": [
    {
     "data": {
      "text/plain": [
       "array(['Positive'], dtype=object)"
      ]
     },
     "execution_count": 33,
     "metadata": {},
     "output_type": "execute_result"
    }
   ],
   "source": [
    "text_model4.predict(['This product is stupid!'])"
   ]
  },
  {
   "cell_type": "code",
   "execution_count": 34,
   "id": "14fd7415",
   "metadata": {},
   "outputs": [],
   "source": [
    "import pickle"
   ]
  },
  {
   "cell_type": "code",
   "execution_count": 35,
   "id": "674b52b2",
   "metadata": {},
   "outputs": [],
   "source": [
    "data = {\"model\": text_model2}\n",
    "with open('SVM_MODEL.pkl', 'wb') as file:\n",
    "    pickle.dump(data, file)"
   ]
  },
  {
   "cell_type": "code",
   "execution_count": 38,
   "id": "43ef7508",
   "metadata": {},
   "outputs": [],
   "source": [
    "with open('SVM_MODEL.pkl', 'rb') as file:\n",
    "    data = pickle.load(file)\n",
    "\n",
    "model_loaded = data[\"model\"]"
   ]
  },
  {
   "cell_type": "code",
   "execution_count": 42,
   "id": "12b94b75",
   "metadata": {},
   "outputs": [
    {
     "name": "stdout",
     "output_type": "stream",
     "text": [
      "['Positive']\n"
     ]
    }
   ],
   "source": [
    "review = 'This product is Nice!'\n",
    "\n",
    "review_list = [review]\n",
    "\n",
    "prediction = model_loaded.predict(review_list)\n",
    "\n",
    "print(prediction)"
   ]
  },
  {
   "cell_type": "code",
   "execution_count": null,
   "id": "0e7b22c9",
   "metadata": {},
   "outputs": [],
   "source": []
  }
 ],
 "metadata": {
  "kernelspec": {
   "display_name": "Python 3 (ipykernel)",
   "language": "python",
   "name": "python3"
  },
  "language_info": {
   "codemirror_mode": {
    "name": "ipython",
    "version": 3
   },
   "file_extension": ".py",
   "mimetype": "text/x-python",
   "name": "python",
   "nbconvert_exporter": "python",
   "pygments_lexer": "ipython3",
   "version": "3.11.4"
  }
 },
 "nbformat": 4,
 "nbformat_minor": 5
}
