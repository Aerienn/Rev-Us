{
 "cells": [
  {
   "cell_type": "code",
   "execution_count": 1,
   "id": "9ef5cc80",
   "metadata": {
    "scrolled": false
   },
   "outputs": [
    {
     "data": {
      "text/html": [
       "<div>\n",
       "<style scoped>\n",
       "    .dataframe tbody tr th:only-of-type {\n",
       "        vertical-align: middle;\n",
       "    }\n",
       "\n",
       "    .dataframe tbody tr th {\n",
       "        vertical-align: top;\n",
       "    }\n",
       "\n",
       "    .dataframe thead th {\n",
       "        text-align: right;\n",
       "    }\n",
       "</style>\n",
       "<table border=\"1\" class=\"dataframe\">\n",
       "  <thead>\n",
       "    <tr style=\"text-align: right;\">\n",
       "      <th></th>\n",
       "      <th>Score</th>\n",
       "      <th>Text</th>\n",
       "      <th>Sentiment</th>\n",
       "    </tr>\n",
       "  </thead>\n",
       "  <tbody>\n",
       "    <tr>\n",
       "      <th>0</th>\n",
       "      <td>3</td>\n",
       "      <td>the service was great but the cats didnot like...</td>\n",
       "      <td>Neutral</td>\n",
       "    </tr>\n",
       "    <tr>\n",
       "      <th>1</th>\n",
       "      <td>3</td>\n",
       "      <td>good  i love the taste  the fact that it is lo...</td>\n",
       "      <td>Neutral</td>\n",
       "    </tr>\n",
       "    <tr>\n",
       "      <th>2</th>\n",
       "      <td>3</td>\n",
       "      <td>fishy smell yes weird texture yes the smell re...</td>\n",
       "      <td>Neutral</td>\n",
       "    </tr>\n",
       "    <tr>\n",
       "      <th>3</th>\n",
       "      <td>1</td>\n",
       "      <td>hey when amazon sold me this exact case of bec...</td>\n",
       "      <td>Negative</td>\n",
       "    </tr>\n",
       "    <tr>\n",
       "      <th>4</th>\n",
       "      <td>5</td>\n",
       "      <td>kind plus pomegranate blueberry pistachio bars...</td>\n",
       "      <td>Positive</td>\n",
       "    </tr>\n",
       "  </tbody>\n",
       "</table>\n",
       "</div>"
      ],
      "text/plain": [
       "   Score                                               Text Sentiment\n",
       "0      3  the service was great but the cats didnot like...   Neutral\n",
       "1      3  good  i love the taste  the fact that it is lo...   Neutral\n",
       "2      3  fishy smell yes weird texture yes the smell re...   Neutral\n",
       "3      1  hey when amazon sold me this exact case of bec...  Negative\n",
       "4      5  kind plus pomegranate blueberry pistachio bars...  Positive"
      ]
     },
     "execution_count": 1,
     "metadata": {},
     "output_type": "execute_result"
    }
   ],
   "source": [
    "import numpy as np\n",
    "import pandas as pd\n",
    "import sklearn\n",
    "df = pd.read_csv(r'D:\\Downloads\\clean_dataset.csv')\n",
    "df.head()"
   ]
  },
  {
   "cell_type": "code",
   "execution_count": 2,
   "id": "7bfcb34e",
   "metadata": {
    "scrolled": true
   },
   "outputs": [
    {
     "data": {
      "text/plain": [
       "Score\n",
       "3    29769\n",
       "5    24357\n",
       "1    19015\n",
       "2    10754\n",
       "4     5412\n",
       "Name: count, dtype: int64"
      ]
     },
     "execution_count": 2,
     "metadata": {},
     "output_type": "execute_result"
    }
   ],
   "source": [
    "df['Score'].value_counts()"
   ]
  },
  {
   "cell_type": "code",
   "execution_count": 3,
   "id": "b2a09974",
   "metadata": {},
   "outputs": [],
   "source": [
    "df = df.rename({\"Text\": \"Review\"}, axis=1)"
   ]
  },
  {
   "cell_type": "code",
   "execution_count": 4,
   "id": "1e962074",
   "metadata": {},
   "outputs": [
    {
     "data": {
      "text/plain": [
       "(89307, 3)"
      ]
     },
     "execution_count": 4,
     "metadata": {},
     "output_type": "execute_result"
    }
   ],
   "source": [
    "df.shape"
   ]
  },
  {
   "cell_type": "code",
   "execution_count": 5,
   "id": "3457f535",
   "metadata": {},
   "outputs": [
    {
     "name": "stderr",
     "output_type": "stream",
     "text": [
      "[nltk_data] Downloading package stopwords to\n",
      "[nltk_data]     C:\\Users\\jeste\\AppData\\Roaming\\nltk_data...\n",
      "[nltk_data]   Package stopwords is already up-to-date!\n"
     ]
    }
   ],
   "source": [
    "import nltk\n",
    "nltk.download('stopwords')\n",
    "from nltk.corpus import stopwords"
   ]
  },
  {
   "cell_type": "code",
   "execution_count": 6,
   "id": "98c6714b",
   "metadata": {},
   "outputs": [],
   "source": [
    "stop_words = stopwords.words('english')"
   ]
  },
  {
   "cell_type": "code",
   "execution_count": 7,
   "id": "a61714c6",
   "metadata": {},
   "outputs": [
    {
     "data": {
      "text/plain": [
       "179"
      ]
     },
     "execution_count": 7,
     "metadata": {},
     "output_type": "execute_result"
    }
   ],
   "source": [
    "len(stop_words)"
   ]
  },
  {
   "cell_type": "code",
   "execution_count": 8,
   "id": "058c8803",
   "metadata": {},
   "outputs": [
    {
     "data": {
      "text/plain": [
       "160"
      ]
     },
     "execution_count": 8,
     "metadata": {},
     "output_type": "execute_result"
    }
   ],
   "source": [
    "negative_words=['no','not',\"don't\",\"aren't\",\"couldn't\",\"didn't\",\"doesn't\",\"hadn't\",\"hasn't\",\"haven't\",\"isn't\",\"mightn't\",\"mustn't\",\"needn't\",\"shouldn't\",\"wasn't\",\"weren't\",\"won't\",\"wouldn't\"]\n",
    "for negative_word in negative_words:\n",
    "  stop_words.remove(negative_word)\n",
    "\n",
    "len(stop_words)"
   ]
  },
  {
   "cell_type": "code",
   "execution_count": 9,
   "id": "ddda4e2d",
   "metadata": {},
   "outputs": [],
   "source": [
    "import re             # re -> regular expressions\n",
    "REPLACE_BY_SPACE_RE = re.compile('[/(){}—[]|@,;‘?|।!-॥–’-]')\n",
    "\n",
    "def clean_text(sample):\n",
    "  sample = sample.lower()\n",
    "  sample = sample.replace(\"\", \"\")\n",
    "  sample = REPLACE_BY_SPACE_RE.sub(' ', sample)\n",
    "  sample = re.sub(\"[^a-z]+\", \" \", sample)\n",
    "  sample = sample.split(\" \")\n",
    "  sample = [word for word in sample if word not in stop_words ]\n",
    "  sample = \" \".join(sample)\n",
    "  return sample"
   ]
  },
  {
   "cell_type": "code",
   "execution_count": 10,
   "id": "1ee2b4f7",
   "metadata": {},
   "outputs": [
    {
     "data": {
      "text/html": [
       "<div>\n",
       "<style scoped>\n",
       "    .dataframe tbody tr th:only-of-type {\n",
       "        vertical-align: middle;\n",
       "    }\n",
       "\n",
       "    .dataframe tbody tr th {\n",
       "        vertical-align: top;\n",
       "    }\n",
       "\n",
       "    .dataframe thead th {\n",
       "        text-align: right;\n",
       "    }\n",
       "</style>\n",
       "<table border=\"1\" class=\"dataframe\">\n",
       "  <thead>\n",
       "    <tr style=\"text-align: right;\">\n",
       "      <th></th>\n",
       "      <th>Score</th>\n",
       "      <th>Review</th>\n",
       "      <th>Sentiment</th>\n",
       "      <th>sentiment</th>\n",
       "    </tr>\n",
       "  </thead>\n",
       "  <tbody>\n",
       "    <tr>\n",
       "      <th>0</th>\n",
       "      <td>3</td>\n",
       "      <td>service great cats didnot like iti guess wont ...</td>\n",
       "      <td>Neutral</td>\n",
       "      <td>Neutral</td>\n",
       "    </tr>\n",
       "    <tr>\n",
       "      <th>1</th>\n",
       "      <td>3</td>\n",
       "      <td>good love taste fact low sodiumbad advertiseme...</td>\n",
       "      <td>Neutral</td>\n",
       "      <td>Neutral</td>\n",
       "    </tr>\n",
       "    <tr>\n",
       "      <th>2</th>\n",
       "      <td>3</td>\n",
       "      <td>fishy smell yes weird texture yes smell really...</td>\n",
       "      <td>Neutral</td>\n",
       "      <td>Neutral</td>\n",
       "    </tr>\n",
       "    <tr>\n",
       "      <th>3</th>\n",
       "      <td>1</td>\n",
       "      <td>hey amazon sold exact case bechtle traditional...</td>\n",
       "      <td>Negative</td>\n",
       "      <td>Negative</td>\n",
       "    </tr>\n",
       "    <tr>\n",
       "      <th>4</th>\n",
       "      <td>5</td>\n",
       "      <td>kind plus pomegranate blueberry pistachio bars...</td>\n",
       "      <td>Positive</td>\n",
       "      <td>Positive</td>\n",
       "    </tr>\n",
       "  </tbody>\n",
       "</table>\n",
       "</div>"
      ],
      "text/plain": [
       "   Score                                             Review Sentiment  \\\n",
       "0      3  service great cats didnot like iti guess wont ...   Neutral   \n",
       "1      3  good love taste fact low sodiumbad advertiseme...   Neutral   \n",
       "2      3  fishy smell yes weird texture yes smell really...   Neutral   \n",
       "3      1  hey amazon sold exact case bechtle traditional...  Negative   \n",
       "4      5  kind plus pomegranate blueberry pistachio bars...  Positive   \n",
       "\n",
       "  sentiment  \n",
       "0   Neutral  \n",
       "1   Neutral  \n",
       "2   Neutral  \n",
       "3  Negative  \n",
       "4  Positive  "
      ]
     },
     "execution_count": 10,
     "metadata": {},
     "output_type": "execute_result"
    }
   ],
   "source": [
    "df['Review'] = df['Review'].apply(clean_text)\n",
    "conditions = [\n",
    "    (df['Score'] >= 4),\n",
    "    (df['Score'] == 3),\n",
    "    (df['Score'] <= 2)\n",
    "    ]\n",
    "values = ['Positive', 'Neutral', 'Negative']\n",
    "df['sentiment'] = np.select(conditions, values)\n",
    "df.head()"
   ]
  },
  {
   "cell_type": "code",
   "execution_count": 11,
   "id": "524cd4e3",
   "metadata": {
    "scrolled": true
   },
   "outputs": [
    {
     "data": {
      "text/plain": [
       "<Axes: xlabel='sentiment'>"
      ]
     },
     "execution_count": 11,
     "metadata": {},
     "output_type": "execute_result"
    },
    {
     "data": {
      "image/png": "[encoded data removed]",
      "text/plain": [
       "<Figure size 640x480 with 1 Axes>"
      ]
     },
     "metadata": {},
     "output_type": "display_data"
    }
   ],
   "source": [
    "import matplotlib.pyplot as plt\n",
    "df['sentiment'].value_counts().sort_index().plot.bar(color=['red', 'blue', 'green'])"
   ]
  },
  {
   "cell_type": "code",
   "execution_count": 12,
   "id": "fe07494d",
   "metadata": {},
   "outputs": [],
   "source": [
    "x = df['Review'].values\n",
    "y = df['sentiment'].values\n",
    "from sklearn.model_selection import train_test_split\n",
    "x_train,x_test,y_train,y_test = train_test_split(x,y,test_size = 0.2,random_state = 0,stratify = y)"
   ]
  },
  {
   "cell_type": "code",
   "execution_count": 13,
   "id": "6b6cd557",
   "metadata": {},
   "outputs": [
    {
     "data": {
      "text/plain": [
       "(array(['Negative', 'Neutral', 'Positive'], dtype=object),\n",
       " array([23815, 23815, 23815], dtype=int64))"
      ]
     },
     "execution_count": 13,
     "metadata": {},
     "output_type": "execute_result"
    }
   ],
   "source": [
    "np.unique(y_train,return_counts=True)"
   ]
  },
  {
   "cell_type": "code",
   "execution_count": 14,
   "id": "61a7ab39",
   "metadata": {
    "scrolled": true
   },
   "outputs": [
    {
     "data": {
      "text/plain": [
       "(array(['Negative', 'Neutral', 'Positive'], dtype=object),\n",
       " array([5954, 5954, 5954], dtype=int64))"
      ]
     },
     "execution_count": 14,
     "metadata": {},
     "output_type": "execute_result"
    }
   ],
   "source": [
    "np.unique(y_test,return_counts=True)"
   ]
  },
  {
   "cell_type": "code",
   "execution_count": 15,
   "id": "d792f70c",
   "metadata": {},
   "outputs": [],
   "source": [
    "from sklearn.pipeline import Pipeline\n",
    "from sklearn.feature_extraction.text import HashingVectorizer\n",
    "from sklearn.svm import LinearSVC\n",
    "text_model = Pipeline([\n",
    "    ('tfidf', HashingVectorizer(ngram_range=(1, 2))), \n",
    "    ('model', LinearSVC())\n",
    "])"
   ]
  },
  {
   "cell_type": "code",
   "execution_count": 16,
   "id": "de57b0ca",
   "metadata": {},
   "outputs": [
    {
     "name": "stderr",
     "output_type": "stream",
     "text": [
      "C:\\Users\\jeste\\AppData\\Local\\Programs\\Python\\Python311\\Lib\\site-packages\\sklearn\\svm\\_classes.py:32: FutureWarning: The default value of `dual` will change from `True` to `'auto'` in 1.5. Set the value of `dual` explicitly to suppress the warning.\n",
      "  warnings.warn(\n"
     ]
    },
    {
     "data": {
      "text/plain": [
       "(array(['Negative', 'Neutral', 'Positive'], dtype=object),\n",
       " array([6029, 5737, 6096], dtype=int64))"
      ]
     },
     "execution_count": 16,
     "metadata": {},
     "output_type": "execute_result"
    }
   ],
   "source": [
    "text_model.fit(x_train,y_train)\n",
    "y_pred = text_model.predict(x_test)\n",
    "np.unique(y_pred,return_counts=True)"
   ]
  },
  {
   "cell_type": "code",
   "execution_count": 17,
   "id": "86861450",
   "metadata": {},
   "outputs": [
    {
     "data": {
      "text/plain": [
       "78.74818049490538"
      ]
     },
     "execution_count": 17,
     "metadata": {},
     "output_type": "execute_result"
    }
   ],
   "source": [
    "from sklearn.metrics import accuracy_score,classification_report,confusion_matrix\n",
    "accuracy_score(y_pred,y_test)*100"
   ]
  },
  {
   "cell_type": "code",
   "execution_count": 18,
   "id": "3a549894",
   "metadata": {},
   "outputs": [
    {
     "data": {
      "text/plain": [
       "array([[4776,  958,  295],\n",
       "       [ 862, 4253,  622],\n",
       "       [ 316,  743, 5037]], dtype=int64)"
      ]
     },
     "execution_count": 18,
     "metadata": {},
     "output_type": "execute_result"
    }
   ],
   "source": [
    "confusion_matrix(y_pred,y_test)"
   ]
  },
  {
   "cell_type": "code",
   "execution_count": 19,
   "id": "8c9e3f07",
   "metadata": {
    "scrolled": true
   },
   "outputs": [
    {
     "name": "stdout",
     "output_type": "stream",
     "text": [
      "              precision    recall  f1-score   support\n",
      "\n",
      "    Negative       0.80      0.79      0.80      6029\n",
      "     Neutral       0.71      0.74      0.73      5737\n",
      "    Positive       0.85      0.83      0.84      6096\n",
      "\n",
      "    accuracy                           0.79     17862\n",
      "   macro avg       0.79      0.79      0.79     17862\n",
      "weighted avg       0.79      0.79      0.79     17862\n",
      "\n"
     ]
    }
   ],
   "source": [
    "print(classification_report(y_pred,y_test))"
   ]
  },
  {
   "cell_type": "code",
   "execution_count": 20,
   "id": "3a92ca24",
   "metadata": {
    "scrolled": true
   },
   "outputs": [
    {
     "data": {
      "text/plain": [
       "array(['Negative'], dtype=object)"
      ]
     },
     "execution_count": 20,
     "metadata": {},
     "output_type": "execute_result"
    }
   ],
   "source": [
    "text_model.predict([\"we're used to spicy foods down here in south texas and these are not at all spicy.  doubt very much habanero is used at all.  could take it up a notch or two.\"])"
   ]
  },
  {
   "cell_type": "code",
   "execution_count": 21,
   "id": "c0c863a2",
   "metadata": {},
   "outputs": [
    {
     "data": {
      "text/plain": [
       "array(['Negative'], dtype=object)"
      ]
     },
     "execution_count": 21,
     "metadata": {},
     "output_type": "execute_result"
    }
   ],
   "source": [
    "text_model.predict(['This product is stupid!'])"
   ]
  },
  {
   "cell_type": "code",
   "execution_count": 22,
   "id": "fbb1ade2",
   "metadata": {},
   "outputs": [
    {
     "data": {
      "text/plain": [
       "array(['Negative'], dtype=object)"
      ]
     },
     "execution_count": 22,
     "metadata": {},
     "output_type": "execute_result"
    }
   ],
   "source": [
    "text_model.predict([\"No tea flavor at all. Just whole brunch of artifial flavors. It is not returnable. I wasted 20+ bucks.\"])"
   ]
  },
  {
   "cell_type": "code",
   "execution_count": null,
   "id": "93446f9a",
   "metadata": {},
   "outputs": [],
   "source": []
  }
 ],
 "metadata": {
  "kernelspec": {
   "display_name": "Python 3 (ipykernel)",
   "language": "python",
   "name": "python3"
  },
  "language_info": {
   "codemirror_mode": {
    "name": "ipython",
    "version": 3
   },
   "file_extension": ".py",
   "mimetype": "text/x-python",
   "name": "python",
   "nbconvert_exporter": "python",
   "pygments_lexer": "ipython3",
   "version": "3.11.4"
  }
 },
 "nbformat": 4,
 "nbformat_minor": 5
}
